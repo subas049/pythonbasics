{
 "cells": [
  {
   "cell_type": "code",
   "execution_count": 2,
   "id": "360dbd27",
   "metadata": {},
   "outputs": [
    {
     "name": "stdout",
     "output_type": "stream",
     "text": [
      "['Chennai', 'Trichy', 'Salem', 'Karur', 'Tanjore', 'Madurai']\n"
     ]
    }
   ],
   "source": [
    "lst=['Chennai','Trichy','Salem','Karur','Tanjore','Madurai']\n",
    "print(lst)"
   ]
  },
  {
   "cell_type": "code",
   "execution_count": 3,
   "id": "1f223918",
   "metadata": {},
   "outputs": [
    {
     "name": "stdout",
     "output_type": "stream",
     "text": [
      "6\n"
     ]
    }
   ],
   "source": [
    "print(len(lst))"
   ]
  },
  {
   "cell_type": "code",
   "execution_count": 4,
   "id": "abf592ed",
   "metadata": {},
   "outputs": [
    {
     "name": "stdout",
     "output_type": "stream",
     "text": [
      "Chennai\n"
     ]
    }
   ],
   "source": [
    "print(lst[0])"
   ]
  },
  {
   "cell_type": "code",
   "execution_count": 5,
   "id": "a5d1f932",
   "metadata": {},
   "outputs": [
    {
     "name": "stdout",
     "output_type": "stream",
     "text": [
      "['Chennai', 'Trichy', 'Salem', 'Karur', 'Tanjore']\n",
      "['Chennai', 'Trichy', 'Salem', 'Karur', 'Tanjore', 'Madurai']\n",
      "['Chennai', 'Salem', 'Tanjore']\n",
      "['Madurai', 'Tanjore', 'Karur', 'Salem', 'Trichy', 'Chennai']\n",
      "['Tanjore', 'Karur', 'Salem', 'Trichy', 'Chennai']\n"
     ]
    }
   ],
   "source": [
    "print(lst[:5])\n",
    "print(lst[:6])\n",
    "print(lst[::2])\n",
    "print(lst[::-1])\n",
    "print(lst[-2::-1])"
   ]
  },
  {
   "cell_type": "code",
   "execution_count": 6,
   "id": "69541308",
   "metadata": {},
   "outputs": [
    {
     "name": "stdout",
     "output_type": "stream",
     "text": [
      "['Chennai', 'Trichy', 'Salem', 'Erode', 'Tanjore', 'Madurai']\n"
     ]
    }
   ],
   "source": [
    "lst[3]='Erode'\n",
    "print(lst)"
   ]
  },
  {
   "cell_type": "code",
   "execution_count": 7,
   "id": "94d66211",
   "metadata": {},
   "outputs": [
    {
     "name": "stdout",
     "output_type": "stream",
     "text": [
      "['Chennai', 'Trichy', 'Salem', 'Erode', 'Tanjore', 'Madurai', 'Tirunelveli']\n"
     ]
    }
   ],
   "source": [
    "lst.append(\"Tirunelveli\")\n",
    "print(lst)"
   ]
  },
  {
   "cell_type": "code",
   "execution_count": 8,
   "id": "7a6fa776",
   "metadata": {},
   "outputs": [
    {
     "name": "stdout",
     "output_type": "stream",
     "text": [
      "['Chennai', 'Trichy', 'Salem', 'Tirunelveli', 'Erode', 'Tanjore', 'Madurai', 'Tirunelveli']\n"
     ]
    }
   ],
   "source": [
    "lst.insert(3,\"Tirunelveli\")\n",
    "print(lst)"
   ]
  },
  {
   "cell_type": "code",
   "execution_count": 9,
   "id": "a504efb2",
   "metadata": {},
   "outputs": [
    {
     "name": "stdout",
     "output_type": "stream",
     "text": [
      "['Chennai', 'Trichy', 'Salem', 'Erode', 'Tanjore', 'Madurai', 'Tirunelveli']\n"
     ]
    }
   ],
   "source": [
    "del lst[3]\n",
    "print(lst)"
   ]
  },
  {
   "cell_type": "code",
   "execution_count": 10,
   "id": "efddd362",
   "metadata": {},
   "outputs": [
    {
     "name": "stdout",
     "output_type": "stream",
     "text": [
      "Tirunelveli\n"
     ]
    }
   ],
   "source": [
    "deleted=lst.pop(-1)\n",
    "print(deleted)"
   ]
  },
  {
   "cell_type": "code",
   "execution_count": 11,
   "id": "2db49108",
   "metadata": {},
   "outputs": [
    {
     "ename": "ValueError",
     "evalue": "list.remove(x): x not in list",
     "output_type": "error",
     "traceback": [
      "\u001b[1;31m---------------------------------------------------------------------------\u001b[0m",
      "\u001b[1;31mValueError\u001b[0m                                Traceback (most recent call last)",
      "Cell \u001b[1;32mIn[11], line 1\u001b[0m\n\u001b[1;32m----> 1\u001b[0m lst\u001b[38;5;241m.\u001b[39mremove(\u001b[38;5;124m\"\u001b[39m\u001b[38;5;124mTirunelveli\u001b[39m\u001b[38;5;124m\"\u001b[39m)\n\u001b[0;32m      2\u001b[0m \u001b[38;5;28mprint\u001b[39m(lst)\n",
      "\u001b[1;31mValueError\u001b[0m: list.remove(x): x not in list"
     ]
    }
   ],
   "source": [
    "lst.remove(\"Tirunelveli\")\n",
    "print(lst)"
   ]
  },
  {
   "cell_type": "code",
   "execution_count": null,
   "id": "aa98c0d7",
   "metadata": {},
   "outputs": [],
   "source": [
    "print(sorted(lst))"
   ]
  },
  {
   "cell_type": "code",
   "execution_count": null,
   "id": "fa6a520b",
   "metadata": {},
   "outputs": [],
   "source": [
    "print(lst)"
   ]
  },
  {
   "cell_type": "code",
   "execution_count": null,
   "id": "f4e838f1",
   "metadata": {},
   "outputs": [],
   "source": [
    "lst.sort()\n",
    "print(lst)"
   ]
  },
  {
   "cell_type": "code",
   "execution_count": null,
   "id": "9d5b35b6",
   "metadata": {},
   "outputs": [],
   "source": [
    "lst.reverse()\n",
    "print(lst)"
   ]
  },
  {
   "cell_type": "code",
   "execution_count": 11,
   "id": "d6a14b86",
   "metadata": {},
   "outputs": [
    {
     "name": "stdout",
     "output_type": "stream",
     "text": [
      "['Madurai', 'Tanjore', 'Erode', 'Salem', 'Trichy', 'Chennai']\n"
     ]
    }
   ],
   "source": [
    "lst.reverse()\n",
    "print(lst)"
   ]
  },
  {
   "cell_type": "code",
   "execution_count": 12,
   "id": "d1eceee1",
   "metadata": {},
   "outputs": [
    {
     "data": {
      "text/plain": [
       "['Tanjore', 'Erode', 'Salem', 'Trichy', 'Chennai']"
      ]
     },
     "execution_count": 12,
     "metadata": {},
     "output_type": "execute_result"
    }
   ],
   "source": [
    "lst[1:]"
   ]
  },
  {
   "cell_type": "code",
   "execution_count": 20,
   "id": "fde54e05",
   "metadata": {},
   "outputs": [
    {
     "data": {
      "text/plain": [
       "'Subas'"
      ]
     },
     "execution_count": 20,
     "metadata": {},
     "output_type": "execute_result"
    }
   ],
   "source": [
    "s=\"Subash\"\n",
    "s[:-1]\n"
   ]
  },
  {
   "cell_type": "code",
   "execution_count": 31,
   "id": "0d97910f",
   "metadata": {},
   "outputs": [
    {
     "name": "stdout",
     "output_type": "stream",
     "text": [
      "25\n"
     ]
    }
   ],
   "source": [
    "demo=lambda x : x*x\n",
    "print(demo(5))"
   ]
  },
  {
   "cell_type": "code",
   "execution_count": 34,
   "id": "5e7fed4b",
   "metadata": {},
   "outputs": [
    {
     "ename": "TypeError",
     "evalue": "list expected at most 1 argument, got 2",
     "output_type": "error",
     "traceback": [
      "\u001b[1;31m---------------------------------------------------------------------------\u001b[0m",
      "\u001b[1;31mTypeError\u001b[0m                                 Traceback (most recent call last)",
      "Cell \u001b[1;32mIn[34], line 1\u001b[0m\n\u001b[1;32m----> 1\u001b[0m squares \u001b[38;5;241m=\u001b[39m \u001b[38;5;28mlist\u001b[39m(\u001b[38;5;28;01mlambda\u001b[39;00m x: x \u001b[38;5;241m*\u001b[39m x, \u001b[38;5;28mrange\u001b[39m(\u001b[38;5;241m1\u001b[39m,\u001b[38;5;241m11\u001b[39m))\n\u001b[0;32m      2\u001b[0m \u001b[38;5;28mprint\u001b[39m(squares)\n",
      "\u001b[1;31mTypeError\u001b[0m: list expected at most 1 argument, got 2"
     ]
    }
   ],
   "source": [
    "squares = list()\n",
    "print(squares)"
   ]
  },
  {
   "cell_type": "code",
   "execution_count": 37,
   "id": "3e6052c4",
   "metadata": {},
   "outputs": [
    {
     "name": "stdout",
     "output_type": "stream",
     "text": [
      "[0, 1, 2, 3, 4, 5, 6, 7, 8, 9, 10]\n"
     ]
    }
   ],
   "source": [
    "ar=list(range(11))\n",
    "print(ar)"
   ]
  },
  {
   "cell_type": "code",
   "execution_count": null,
   "id": "9279ade0",
   "metadata": {},
   "outputs": [],
   "source": []
  }
 ],
 "metadata": {
  "kernelspec": {
   "display_name": "Python 3 (ipykernel)",
   "language": "python",
   "name": "python3"
  },
  "language_info": {
   "codemirror_mode": {
    "name": "ipython",
    "version": 3
   },
   "file_extension": ".py",
   "mimetype": "text/x-python",
   "name": "python",
   "nbconvert_exporter": "python",
   "pygments_lexer": "ipython3",
   "version": "3.11.5"
  }
 },
 "nbformat": 4,
 "nbformat_minor": 5
}
