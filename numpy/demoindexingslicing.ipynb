{
 "cells": [
  {
   "cell_type": "markdown",
   "id": "a2bd2f17",
   "metadata": {},
   "source": [
    "# Indexing and Slicing"
   ]
  },
  {
   "cell_type": "code",
   "execution_count": 4,
   "id": "9ef77571",
   "metadata": {},
   "outputs": [
    {
     "name": "stdout",
     "output_type": "stream",
     "text": [
      "[0 1 2 3 4 5 6 7 8 9]\n",
      "[0 1 2 3 4]\n"
     ]
    }
   ],
   "source": [
    "import numpy as np\n",
    "n1=np.arange(10)\n",
    "print(n1)\n",
    "print(n1[n1<5])"
   ]
  },
  {
   "cell_type": "code",
   "execution_count": 5,
   "id": "a3a9a4b4",
   "metadata": {},
   "outputs": [
    {
     "name": "stdout",
     "output_type": "stream",
     "text": [
      "[1 2]\n"
     ]
    }
   ],
   "source": [
    "print(n1[(n1<3) & (n1>0)])"
   ]
  },
  {
   "cell_type": "code",
   "execution_count": 9,
   "id": "31aed34e",
   "metadata": {},
   "outputs": [
    {
     "name": "stdout",
     "output_type": "stream",
     "text": [
      "[False False False False False False  True  True  True  True]\n",
      "[6 7 8 9]\n"
     ]
    }
   ],
   "source": [
    "flag=n1>5\n",
    "print(flag)\n",
    "print(n1[flag])\n"
   ]
  },
  {
   "cell_type": "code",
   "execution_count": 14,
   "id": "55a7e124",
   "metadata": {},
   "outputs": [
    {
     "name": "stdout",
     "output_type": "stream",
     "text": [
      "(array([6, 7, 8, 9], dtype=int64),)\n"
     ]
    }
   ],
   "source": [
    "n1[7]=49\n",
    "print(np.nonzero(n1>5))"
   ]
  },
  {
   "cell_type": "code",
   "execution_count": 15,
   "id": "70d7eb48",
   "metadata": {},
   "outputs": [
    {
     "data": {
      "text/plain": [
       "array([ 3,  4,  5,  6, 49])"
      ]
     },
     "execution_count": 15,
     "metadata": {},
     "output_type": "execute_result"
    }
   ],
   "source": [
    "n1[3:8]"
   ]
  },
  {
   "cell_type": "markdown",
   "id": "4be5c2f1",
   "metadata": {},
   "source": [
    "# Stack and Split"
   ]
  },
  {
   "cell_type": "code",
   "execution_count": 19,
   "id": "a0542dd3",
   "metadata": {},
   "outputs": [
    {
     "name": "stdout",
     "output_type": "stream",
     "text": [
      "[[1 2 3 2 4 6]\n",
      " [4 5 6 8 7 9]]\n",
      "[[1 2 3]\n",
      " [4 5 6]\n",
      " [2 4 6]\n",
      " [8 7 9]]\n",
      "(2, 6)\n",
      "(4, 3)\n"
     ]
    }
   ],
   "source": [
    "n2=np.array([[1,2,3],[4,5,6]])\n",
    "n3=np.array([[2,4,6],[8,7,9]])\n",
    "#horizontal stack\n",
    "print(np.hstack((n2,n3)))\n",
    "#vertical stack\n",
    "print(np.vstack((n2,n3)))\n",
    "\n",
    "print(np.hstack((n2,n3)).shape)\n",
    "print(np.vstack((n2,n3)).shape)"
   ]
  },
  {
   "cell_type": "code",
   "execution_count": 29,
   "id": "b614b695",
   "metadata": {},
   "outputs": [
    {
     "name": "stdout",
     "output_type": "stream",
     "text": [
      "[ 0  1  2  3  4  5  6  7  8  9 10 11 12 13 14 15 16 17 18 19 20]\n"
     ]
    }
   ],
   "source": [
    "n4=np.arange(21)\n",
    "print(n4)"
   ]
  },
  {
   "cell_type": "code",
   "execution_count": 30,
   "id": "b864f4f4",
   "metadata": {},
   "outputs": [
    {
     "data": {
      "text/plain": [
       "[array([[1, 2, 3]]), array([[4, 5, 6]])]"
      ]
     },
     "execution_count": 30,
     "metadata": {},
     "output_type": "execute_result"
    }
   ],
   "source": [
    "np.hsplit(n4,3)\n",
    "np.vsplit(n2,2)"
   ]
  },
  {
   "cell_type": "markdown",
   "id": "45ba8b3c",
   "metadata": {},
   "source": [
    "# Copy"
   ]
  },
  {
   "cell_type": "code",
   "execution_count": 31,
   "id": "94c72590",
   "metadata": {},
   "outputs": [
    {
     "name": "stdout",
     "output_type": "stream",
     "text": [
      "[ 0  1  2  3  4  5  6  7  8  9 10 11 12 13 14 15 16 17 18 19 20]\n",
      "[ 0  1  2  3  4  5  6  7  8  9 10 11 12 13 14 15 16 17 18 19 20]\n",
      "[ 0  1  2  3  4  5  6  7  8  9 99 11 12 13 14 15 16 17 18 19 20]\n",
      "[ 0  1  2  3  4  5  6  7  8  9 99 11 12 13 14 15 16 17 18 19 20]\n"
     ]
    }
   ],
   "source": [
    "#its a shallow copy just reference copied but actual array not copied\n",
    "n5=n4\n",
    "print(n4)\n",
    "print(n5)\n",
    "n5[10]=99\n",
    "\n",
    "print(n4)\n",
    "print(n5)"
   ]
  },
  {
   "cell_type": "code",
   "execution_count": 33,
   "id": "053d3100",
   "metadata": {},
   "outputs": [
    {
     "name": "stdout",
     "output_type": "stream",
     "text": [
      "[ 0  1  2  3  4  5  6  7  8  9 99 11 12 13 14 15 16 17 18 19 20]\n",
      "[ 0  1  2  3  4  5  6  7  8  9 99 11 12 13 14 15 16 17 18 19 20]\n",
      "[9878    1    2    3    4    5    6    7    8    9   99   11   12   13\n",
      "   14   15   16   17   18   19   20]\n"
     ]
    }
   ],
   "source": [
    "#deep copy\n",
    "n6=n5.copy()\n",
    "print(n6)\n",
    "n6[0]=9878\n",
    "print(n5)\n",
    "print(n6)\n",
    "\n"
   ]
  },
  {
   "cell_type": "code",
   "execution_count": 34,
   "id": "038c2c35",
   "metadata": {},
   "outputs": [
    {
     "name": "stdout",
     "output_type": "stream",
     "text": [
      "[9878    1    2    3    4    5    6    7    8    9   99   11   12   13\n",
      "   14   15   16   17   18   19   20]\n"
     ]
    }
   ],
   "source": [
    "#This is also a shallow copy\n",
    "n7=n6[:]\n",
    "print(n7)"
   ]
  },
  {
   "cell_type": "code",
   "execution_count": 35,
   "id": "c44050f8",
   "metadata": {},
   "outputs": [
    {
     "name": "stdout",
     "output_type": "stream",
     "text": [
      "[ 0  1  2  3  4  5  6  7  8  9 99 11 12 13 14 15 16 17 18 19 20]\n",
      "[ 0  1  2  3  4  5  6  7  8  9 99 11 12 13 14 15 16 17 18 19 20]\n"
     ]
    }
   ],
   "source": [
    "n7[0]=0\n",
    "print(n7)\n",
    "print(n6)"
   ]
  },
  {
   "cell_type": "markdown",
   "id": "3bbda805",
   "metadata": {},
   "source": [
    "# Math"
   ]
  },
  {
   "cell_type": "code",
   "execution_count": 36,
   "id": "eb773d22",
   "metadata": {},
   "outputs": [
    {
     "name": "stdout",
     "output_type": "stream",
     "text": [
      "[[1 2 3]\n",
      " [4 5 6]]\n",
      "[[2 4 6]\n",
      " [8 7 9]]\n"
     ]
    }
   ],
   "source": [
    "print(n2)\n",
    "print(n3)"
   ]
  },
  {
   "cell_type": "code",
   "execution_count": 37,
   "id": "2b1efd13",
   "metadata": {},
   "outputs": [
    {
     "name": "stdout",
     "output_type": "stream",
     "text": [
      "[[ 3  6  9]\n",
      " [12 12 15]]\n"
     ]
    }
   ],
   "source": [
    "print(n2+n3)"
   ]
  },
  {
   "cell_type": "code",
   "execution_count": 38,
   "id": "2cc02a06",
   "metadata": {},
   "outputs": [
    {
     "name": "stdout",
     "output_type": "stream",
     "text": [
      "[[ 2  8 18]\n",
      " [32 35 54]]\n"
     ]
    }
   ],
   "source": [
    "print(n2*n3)"
   ]
  },
  {
   "cell_type": "code",
   "execution_count": 39,
   "id": "62e449d3",
   "metadata": {},
   "outputs": [
    {
     "name": "stdout",
     "output_type": "stream",
     "text": [
      "[[-1 -2 -3]\n",
      " [-4 -2 -3]]\n"
     ]
    }
   ],
   "source": [
    "print(n2-n3)"
   ]
  },
  {
   "cell_type": "code",
   "execution_count": 40,
   "id": "97a546ff",
   "metadata": {},
   "outputs": [
    {
     "name": "stdout",
     "output_type": "stream",
     "text": [
      "[[0.5        0.5        0.5       ]\n",
      " [0.5        0.71428571 0.66666667]]\n"
     ]
    }
   ],
   "source": [
    "print(n2/n3)"
   ]
  },
  {
   "cell_type": "code",
   "execution_count": 41,
   "id": "d801167d",
   "metadata": {},
   "outputs": [
    {
     "name": "stdout",
     "output_type": "stream",
     "text": [
      "[[ 1  4  9]\n",
      " [16 25 36]]\n"
     ]
    }
   ],
   "source": [
    "print(n2*n2)"
   ]
  },
  {
   "cell_type": "code",
   "execution_count": 43,
   "id": "174ab6b0",
   "metadata": {},
   "outputs": [
    {
     "name": "stdout",
     "output_type": "stream",
     "text": [
      "21\n",
      "6\n",
      "1\n"
     ]
    }
   ],
   "source": [
    "print(n2.sum())\n",
    "print(n2.max())\n",
    "print(n2.min())"
   ]
  },
  {
   "cell_type": "code",
   "execution_count": 55,
   "id": "950a889a",
   "metadata": {},
   "outputs": [
    {
     "name": "stdout",
     "output_type": "stream",
     "text": [
      "[ 0.         -0.98803162  0.85090352 -0.30481062  0.89399666]\n",
      "[ 1.          0.15425145  0.52532199 -0.95241298 -0.44807362]\n",
      "[ 0.         -6.4053312   1.61977519  0.32004039 -1.99520041]\n"
     ]
    }
   ],
   "source": [
    "#find cosine values for below array\n",
    "n8=[0,30,45,60,90]\n",
    "print(np.sin(n8))\n",
    "print(np.cos(n8))\n",
    "print(np.tan(n8))"
   ]
  },
  {
   "cell_type": "markdown",
   "id": "ea94510b",
   "metadata": {},
   "source": [
    "# Random"
   ]
  },
  {
   "cell_type": "code",
   "execution_count": 46,
   "id": "86cbf693",
   "metadata": {},
   "outputs": [
    {
     "name": "stdout",
     "output_type": "stream",
     "text": [
      "[[0.53105847 0.78496547 0.06772027]\n",
      " [0.90609927 0.58184865 0.99747208]\n",
      " [0.92372991 0.69326671 0.63626358]]\n"
     ]
    }
   ],
   "source": [
    "n9=np.random.rand(3,3)\n",
    "print(n9)"
   ]
  },
  {
   "cell_type": "code",
   "execution_count": 50,
   "id": "d5975372",
   "metadata": {},
   "outputs": [
    {
     "name": "stdout",
     "output_type": "stream",
     "text": [
      "[[ 2  2  0]\n",
      " [19  3  3]\n",
      " [12  9 18]]\n"
     ]
    }
   ],
   "source": [
    "n10=np.random.randint(20,size=(3,3)) # 20 is a range\n",
    "print(n10)"
   ]
  },
  {
   "cell_type": "code",
   "execution_count": null,
   "id": "06086ea5",
   "metadata": {},
   "outputs": [],
   "source": []
  }
 ],
 "metadata": {
  "kernelspec": {
   "display_name": "Python 3 (ipykernel)",
   "language": "python",
   "name": "python3"
  },
  "language_info": {
   "codemirror_mode": {
    "name": "ipython",
    "version": 3
   },
   "file_extension": ".py",
   "mimetype": "text/x-python",
   "name": "python",
   "nbconvert_exporter": "python",
   "pygments_lexer": "ipython3",
   "version": "3.11.5"
  }
 },
 "nbformat": 4,
 "nbformat_minor": 5
}
