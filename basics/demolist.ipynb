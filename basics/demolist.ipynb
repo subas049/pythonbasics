{
 "cells": [
  {
   "cell_type": "code",
   "execution_count": 1,
   "id": "360dbd27",
   "metadata": {},
   "outputs": [
    {
     "name": "stdout",
     "output_type": "stream",
     "text": [
      "['Chennai', 'Trichy', 'Salem', 'Karur', 'Tanjore', 'Madurai']\n"
     ]
    }
   ],
   "source": [
    "lst=['Chennai','Trichy','Salem','Karur','Tanjore','Madurai']\n",
    "print(lst)"
   ]
  },
  {
   "cell_type": "code",
   "execution_count": 2,
   "id": "1f223918",
   "metadata": {},
   "outputs": [
    {
     "name": "stdout",
     "output_type": "stream",
     "text": [
      "6\n"
     ]
    }
   ],
   "source": [
    "print(len(lst))"
   ]
  },
  {
   "cell_type": "code",
   "execution_count": 3,
   "id": "abf592ed",
   "metadata": {},
   "outputs": [
    {
     "name": "stdout",
     "output_type": "stream",
     "text": [
      "Chennai\n"
     ]
    }
   ],
   "source": [
    "print(lst[0])"
   ]
  },
  {
   "cell_type": "code",
   "execution_count": 4,
   "id": "a5d1f932",
   "metadata": {},
   "outputs": [
    {
     "name": "stdout",
     "output_type": "stream",
     "text": [
      "['Chennai', 'Trichy', 'Salem', 'Karur', 'Tanjore']\n",
      "['Chennai', 'Trichy', 'Salem', 'Karur', 'Tanjore', 'Madurai']\n",
      "['Chennai', 'Salem', 'Tanjore']\n",
      "['Madurai', 'Tanjore', 'Karur', 'Salem', 'Trichy', 'Chennai']\n",
      "['Tanjore', 'Karur', 'Salem', 'Trichy', 'Chennai']\n"
     ]
    }
   ],
   "source": [
    "print(lst[:5])\n",
    "print(lst[:6])\n",
    "print(lst[::2])\n",
    "print(lst[::-1])\n",
    "print(lst[-2::-1])"
   ]
  },
  {
   "cell_type": "code",
   "execution_count": 5,
   "id": "69541308",
   "metadata": {},
   "outputs": [
    {
     "name": "stdout",
     "output_type": "stream",
     "text": [
      "['Chennai', 'Trichy', 'Salem', 'Erode', 'Tanjore', 'Madurai']\n"
     ]
    }
   ],
   "source": [
    "lst[3]='Erode'\n",
    "print(lst)"
   ]
  },
  {
   "cell_type": "code",
   "execution_count": 10,
   "id": "94d66211",
   "metadata": {},
   "outputs": [
    {
     "name": "stdout",
     "output_type": "stream",
     "text": [
      "['Chennai', 'Trichy', 'Salem', 'Erode', 'Tanjore', 'Madurai', 'Tirunelveli']\n"
     ]
    }
   ],
   "source": [
    "lst.append(\"Tirunelveli\")\n",
    "print(lst)"
   ]
  },
  {
   "cell_type": "code",
   "execution_count": 12,
   "id": "7a6fa776",
   "metadata": {},
   "outputs": [
    {
     "name": "stdout",
     "output_type": "stream",
     "text": [
      "['Chennai', 'Trichy', 'Salem', 'Tirunelveli', 'Tirunelveli', 'Erode', 'Tanjore', 'Madurai', 'Tirunelveli']\n"
     ]
    }
   ],
   "source": [
    "lst.insert(3,\"Tirunelveli\")\n",
    "print(lst)"
   ]
  },
  {
   "cell_type": "code",
   "execution_count": 8,
   "id": "a504efb2",
   "metadata": {},
   "outputs": [
    {
     "name": "stdout",
     "output_type": "stream",
     "text": [
      "['Chennai', 'Trichy', 'Salem', 'Erode', 'Tanjore', 'Madurai', 'Tirunelveli']\n"
     ]
    }
   ],
   "source": [
    "del lst[3]\n",
    "print(lst)"
   ]
  },
  {
   "cell_type": "code",
   "execution_count": 9,
   "id": "efddd362",
   "metadata": {},
   "outputs": [
    {
     "name": "stdout",
     "output_type": "stream",
     "text": [
      "Tirunelveli\n"
     ]
    }
   ],
   "source": [
    "deleted=lst.pop(-1)\n",
    "print(deleted)"
   ]
  },
  {
   "cell_type": "code",
   "execution_count": 13,
   "id": "2db49108",
   "metadata": {},
   "outputs": [
    {
     "name": "stdout",
     "output_type": "stream",
     "text": [
      "['Chennai', 'Trichy', 'Salem', 'Tirunelveli', 'Erode', 'Tanjore', 'Madurai', 'Tirunelveli']\n"
     ]
    }
   ],
   "source": [
    "lst.remove(\"Tirunelveli\")\n",
    "print(lst)"
   ]
  },
  {
   "cell_type": "code",
   "execution_count": 14,
   "id": "aa98c0d7",
   "metadata": {},
   "outputs": [
    {
     "name": "stdout",
     "output_type": "stream",
     "text": [
      "['Chennai', 'Erode', 'Madurai', 'Salem', 'Tanjore', 'Tirunelveli', 'Tirunelveli', 'Trichy']\n"
     ]
    }
   ],
   "source": [
    "print(sorted(lst))"
   ]
  },
  {
   "cell_type": "code",
   "execution_count": 15,
   "id": "fa6a520b",
   "metadata": {},
   "outputs": [
    {
     "name": "stdout",
     "output_type": "stream",
     "text": [
      "['Chennai', 'Trichy', 'Salem', 'Tirunelveli', 'Erode', 'Tanjore', 'Madurai', 'Tirunelveli']\n"
     ]
    }
   ],
   "source": [
    "print(lst)"
   ]
  },
  {
   "cell_type": "code",
   "execution_count": 16,
   "id": "f4e838f1",
   "metadata": {},
   "outputs": [
    {
     "name": "stdout",
     "output_type": "stream",
     "text": [
      "['Chennai', 'Erode', 'Madurai', 'Salem', 'Tanjore', 'Tirunelveli', 'Tirunelveli', 'Trichy']\n"
     ]
    }
   ],
   "source": [
    "lst.sort()\n",
    "print(lst)"
   ]
  },
  {
   "cell_type": "code",
   "execution_count": 17,
   "id": "9d5b35b6",
   "metadata": {},
   "outputs": [
    {
     "name": "stdout",
     "output_type": "stream",
     "text": [
      "['Trichy', 'Tirunelveli', 'Tirunelveli', 'Tanjore', 'Salem', 'Madurai', 'Erode', 'Chennai']\n"
     ]
    }
   ],
   "source": [
    "lst.reverse()\n",
    "print(lst)"
   ]
  },
  {
   "cell_type": "code",
   "execution_count": 18,
   "id": "d6a14b86",
   "metadata": {},
   "outputs": [
    {
     "name": "stdout",
     "output_type": "stream",
     "text": [
      "['Chennai', 'Erode', 'Madurai', 'Salem', 'Tanjore', 'Tirunelveli', 'Tirunelveli', 'Trichy']\n"
     ]
    }
   ],
   "source": [
    "lst.reverse()\n",
    "print(lst)"
   ]
  },
  {
   "cell_type": "code",
   "execution_count": null,
   "id": "d1eceee1",
   "metadata": {},
   "outputs": [],
   "source": []
  }
 ],
 "metadata": {
  "kernelspec": {
   "display_name": "Python 3 (ipykernel)",
   "language": "python",
   "name": "python3"
  },
  "language_info": {
   "codemirror_mode": {
    "name": "ipython",
    "version": 3
   },
   "file_extension": ".py",
   "mimetype": "text/x-python",
   "name": "python",
   "nbconvert_exporter": "python",
   "pygments_lexer": "ipython3",
   "version": "3.11.5"
  }
 },
 "nbformat": 4,
 "nbformat_minor": 5
}
