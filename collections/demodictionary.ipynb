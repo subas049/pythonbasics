{
 "cells": [
  {
   "cell_type": "markdown",
   "id": "6228235f",
   "metadata": {},
   "source": [
    "# Dictionary \n"
   ]
  },
  {
   "cell_type": "markdown",
   "id": "36c6ee59",
   "metadata": {},
   "source": [
    "key value pair\n"
   ]
  },
  {
   "cell_type": "code",
   "execution_count": 1,
   "id": "f46fd34b",
   "metadata": {},
   "outputs": [
    {
     "name": "stdout",
     "output_type": "stream",
     "text": [
      "38\n",
      "{'name': 'subash', 'age': 38, 'gender': 'male', 'education': 'mtech'}\n"
     ]
    }
   ],
   "source": [
    "demo_dict={'name':'subash','age':38,'gender':'male','education':'mtech'}\n",
    "print(demo_dict['age'])\n",
    "print(demo_dict)"
   ]
  },
  {
   "cell_type": "code",
   "execution_count": 2,
   "id": "a922c6b2",
   "metadata": {},
   "outputs": [
    {
     "name": "stdout",
     "output_type": "stream",
     "text": [
      "{'name': 'subash', 'age': 38, 'gender': 'male', 'education': 'mtech', 'city': 'chennai'}\n"
     ]
    }
   ],
   "source": [
    "demo_dict['city']='chennai'\n",
    "print(demo_dict)"
   ]
  },
  {
   "cell_type": "code",
   "execution_count": 3,
   "id": "72b45a29",
   "metadata": {},
   "outputs": [
    {
     "name": "stdout",
     "output_type": "stream",
     "text": [
      "{'name': 'subash', 'age': 38, 'gender': 'male', 'education': 'Master of Technology', 'city': 'chennai'}\n"
     ]
    }
   ],
   "source": [
    "demo_dict['education']='Master of Technology'\n",
    "print(demo_dict)"
   ]
  },
  {
   "cell_type": "code",
   "execution_count": 4,
   "id": "f31db338",
   "metadata": {},
   "outputs": [
    {
     "name": "stdout",
     "output_type": "stream",
     "text": [
      "{'name': 'subash', 'age': 38, 'education': 'Master of Technology', 'city': 'chennai'}\n"
     ]
    }
   ],
   "source": [
    "del demo_dict['gender']\n",
    "print(demo_dict)"
   ]
  },
  {
   "cell_type": "code",
   "execution_count": 7,
   "id": "91a9d1c1",
   "metadata": {},
   "outputs": [
    {
     "name": "stdout",
     "output_type": "stream",
     "text": [
      "Key is : name\n",
      "val is : subash\n",
      "Key is : age\n",
      "val is : 38\n",
      "Key is : education\n",
      "val is : Master of Technology\n",
      "Key is : city\n",
      "val is : chennai\n",
      "city       chennai\n"
     ]
    }
   ],
   "source": [
    "for key,val in demo_dict.items():\n",
    "    print('Key is : '+key)\n",
    "    print('val is : '+str(val))\n"
   ]
  },
  {
   "cell_type": "code",
   "execution_count": 9,
   "id": "ce3f6259",
   "metadata": {},
   "outputs": [
    {
     "name": "stdout",
     "output_type": "stream",
     "text": [
      "Key is : name\n",
      "Key is : age\n",
      "Key is : education\n",
      "Key is : city\n"
     ]
    }
   ],
   "source": [
    "for key in demo_dict.keys():\n",
    "    print('Key is : '+key)\n"
   ]
  },
  {
   "cell_type": "code",
   "execution_count": 10,
   "id": "cb7b2df2",
   "metadata": {},
   "outputs": [
    {
     "name": "stdout",
     "output_type": "stream",
     "text": [
      "Key is : age\n",
      "Key is : city\n",
      "Key is : education\n",
      "Key is : name\n"
     ]
    }
   ],
   "source": [
    "for key in sorted(demo_dict.keys()):\n",
    "    print('Key is : '+key)"
   ]
  },
  {
   "cell_type": "code",
   "execution_count": 11,
   "id": "e48efcd2",
   "metadata": {},
   "outputs": [
    {
     "name": "stdout",
     "output_type": "stream",
     "text": [
      "38\n",
      "chennai\n",
      "Master of Technology\n",
      "subash\n"
     ]
    }
   ],
   "source": [
    "for key in sorted(demo_dict.keys()):\n",
    "    print(demo_dict[key])"
   ]
  },
  {
   "cell_type": "code",
   "execution_count": 14,
   "id": "cf94f834",
   "metadata": {},
   "outputs": [
    {
     "name": "stdout",
     "output_type": "stream",
     "text": [
      "val is : subash\n",
      "val is : 38\n",
      "val is : Master of Technology\n",
      "val is : chennai\n"
     ]
    }
   ],
   "source": [
    "for val in demo_dict.values():\n",
    "    print('val is : '+str(val))"
   ]
  },
  {
   "cell_type": "markdown",
   "id": "37cccac4",
   "metadata": {},
   "source": [
    "# List of Dictionary"
   ]
  },
  {
   "cell_type": "code",
   "execution_count": 16,
   "id": "601f892a",
   "metadata": {},
   "outputs": [
    {
     "name": "stdout",
     "output_type": "stream",
     "text": [
      "[{'name': 'subash', 'organization': 'Oracle', 'education': 'M.Tech'}, {'name': 'pirama', 'organization': 'SCB', 'education': 'B.Tech'}, {'name': 'vadivel', 'organization': 'CTS', 'education': 'MCA'}]\n"
     ]
    }
   ],
   "source": [
    "users=[]\n",
    "user1={'name':'subash','organization':'Oracle','education':'M.Tech'}\n",
    "user2={'name':'pirama','organization':'SCB','education':'B.Tech'}\n",
    "user3={'name':'vadivel','organization':'CTS','education':'MCA'}\n",
    "users.append(user1)\n",
    "users.append(user2)\n",
    "users.append(user3)\n",
    "print(users)"
   ]
  },
  {
   "cell_type": "code",
   "execution_count": 17,
   "id": "a2196ab0",
   "metadata": {},
   "outputs": [
    {
     "name": "stdout",
     "output_type": "stream",
     "text": [
      "subash\n"
     ]
    }
   ],
   "source": [
    "print(users[0]['name'])"
   ]
  },
  {
   "cell_type": "markdown",
   "id": "60a13856",
   "metadata": {},
   "source": [
    "# List in Dictionary"
   ]
  },
  {
   "cell_type": "code",
   "execution_count": 18,
   "id": "fbf5338d",
   "metadata": {},
   "outputs": [
    {
     "name": "stdout",
     "output_type": "stream",
     "text": [
      "{'name': 'Nagaraj', 'organization': 'CTS', 'favfoods': ['idly', 'dosa', 'pongal']}\n"
     ]
    }
   ],
   "source": [
    "user4={'name':'Nagaraj','organization':'CTS','favfoods':['idly','dosa','pongal']}\n",
    "print(user4)"
   ]
  },
  {
   "cell_type": "code",
   "execution_count": 20,
   "id": "a51ba871",
   "metadata": {},
   "outputs": [
    {
     "name": "stdout",
     "output_type": "stream",
     "text": [
      "['idly', 'dosa', 'pongal']\n",
      "idly\n"
     ]
    }
   ],
   "source": [
    "print(user4['favfoods'])\n",
    "print(user4['favfoods'][0])"
   ]
  },
  {
   "cell_type": "code",
   "execution_count": null,
   "id": "29f073dd",
   "metadata": {},
   "outputs": [],
   "source": []
  }
 ],
 "metadata": {
  "kernelspec": {
   "display_name": "Python 3 (ipykernel)",
   "language": "python",
   "name": "python3"
  },
  "language_info": {
   "codemirror_mode": {
    "name": "ipython",
    "version": 3
   },
   "file_extension": ".py",
   "mimetype": "text/x-python",
   "name": "python",
   "nbconvert_exporter": "python",
   "pygments_lexer": "ipython3",
   "version": "3.11.5"
  }
 },
 "nbformat": 4,
 "nbformat_minor": 5
}
