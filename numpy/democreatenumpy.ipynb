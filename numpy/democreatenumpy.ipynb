{
 "cells": [
  {
   "cell_type": "code",
   "execution_count": 5,
   "id": "438e69bf",
   "metadata": {},
   "outputs": [
    {
     "name": "stdout",
     "output_type": "stream",
     "text": [
      "[2 4 6 7 8 9 2 3]\n"
     ]
    }
   ],
   "source": [
    "import numpy as np\n",
    "#creating 1d array\n",
    "n1=np.array([2,4,6,7,8,9,2,3])\n",
    "print(n1)"
   ]
  },
  {
   "cell_type": "code",
   "execution_count": 7,
   "id": "0a0f2de6",
   "metadata": {},
   "outputs": [
    {
     "name": "stdout",
     "output_type": "stream",
     "text": [
      "[[1 2 4 5]\n",
      " [2 6 9 7]]\n"
     ]
    }
   ],
   "source": [
    "#creating 2d array\n",
    "n2=np.array([[1,2,4,5],[2,6,9,7]])\n",
    "print(n2)"
   ]
  },
  {
   "cell_type": "code",
   "execution_count": 12,
   "id": "0b143ff7",
   "metadata": {},
   "outputs": [
    {
     "name": "stdout",
     "output_type": "stream",
     "text": [
      "[[0. 0. 0.]\n",
      " [0. 0. 0.]\n",
      " [0. 0. 0.]]\n",
      "[[0 0 0]\n",
      " [0 0 0]\n",
      " [0 0 0]]\n"
     ]
    }
   ],
   "source": [
    "#creating 3d array filled with zeros\n",
    "n3=np.zeros([3,3])\n",
    "print(n3)\n",
    "n4=np.zeros([3,3],dtype='int32')\n",
    "print(n4)"
   ]
  },
  {
   "cell_type": "code",
   "execution_count": 14,
   "id": "121e2b1f",
   "metadata": {},
   "outputs": [
    {
     "name": "stdout",
     "output_type": "stream",
     "text": [
      "[[[1 1 1]\n",
      "  [1 1 1]\n",
      "  [1 1 1]]\n",
      "\n",
      " [[1 1 1]\n",
      "  [1 1 1]\n",
      "  [1 1 1]]]\n"
     ]
    }
   ],
   "source": [
    "#creating two 3d array filled with ones\n",
    "\n",
    "n5=np.ones([2,3,3],dtype='int32')\n",
    "print(n5)"
   ]
  },
  {
   "cell_type": "code",
   "execution_count": 15,
   "id": "2c46ee9d",
   "metadata": {},
   "outputs": [
    {
     "name": "stdout",
     "output_type": "stream",
     "text": [
      "[[460714096       606         0]]\n"
     ]
    }
   ],
   "source": [
    "#creating empty array filled with random junk values\n",
    "n6=np.empty([1,3],dtype='int32')\n",
    "print(n6)"
   ]
  },
  {
   "cell_type": "code",
   "execution_count": 17,
   "id": "88f39433",
   "metadata": {},
   "outputs": [
    {
     "name": "stdout",
     "output_type": "stream",
     "text": [
      "[0 1 2 3 4 5 6 7 8 9]\n"
     ]
    }
   ],
   "source": [
    "#creating an array filled with range of values\n",
    "n7=np.arange(10)\n",
    "print(n7)"
   ]
  },
  {
   "cell_type": "code",
   "execution_count": 21,
   "id": "d0f19cc0",
   "metadata": {},
   "outputs": [
    {
     "name": "stdout",
     "output_type": "stream",
     "text": [
      "[ 0  2  4  6  9 11 13 15 18 20 22 25]\n"
     ]
    }
   ],
   "source": [
    "#linearly spaced array\n",
    "n8=np.linspace(0,25,12,dtype='int32')\n",
    "print(n8)"
   ]
  },
  {
   "cell_type": "code",
   "execution_count": 23,
   "id": "3d955cd8",
   "metadata": {},
   "outputs": [
    {
     "name": "stdout",
     "output_type": "stream",
     "text": [
      "[[49 49 49]\n",
      " [49 49 49]\n",
      " [49 49 49]]\n"
     ]
    }
   ],
   "source": [
    "#creating an array filled with specific values\n",
    "n9=np.full([3,3],49)\n",
    "print(n9)"
   ]
  },
  {
   "cell_type": "code",
   "execution_count": 24,
   "id": "e2c06cbc",
   "metadata": {},
   "outputs": [
    {
     "ename": "NameError",
     "evalue": "name 'fill' is not defined",
     "output_type": "error",
     "traceback": [
      "\u001b[1;31m---------------------------------------------------------------------------\u001b[0m",
      "\u001b[1;31mNameError\u001b[0m                                 Traceback (most recent call last)",
      "Cell \u001b[1;32mIn[24], line 2\u001b[0m\n\u001b[0;32m      1\u001b[0m \u001b[38;5;66;03m#filled with specific value for an empty array\u001b[39;00m\n\u001b[1;32m----> 2\u001b[0m n5\u001b[38;5;241m=\u001b[39mfill(\u001b[38;5;241m5\u001b[39m)\n\u001b[0;32m      3\u001b[0m \u001b[38;5;28mprint\u001b[39m(n5)\n",
      "\u001b[1;31mNameError\u001b[0m: name 'fill' is not defined"
     ]
    }
   ],
   "source": [
    "#filled with specific value for an empty array\n",
    "n5=fill(5)\n",
    "print(n5)"
   ]
  },
  {
   "cell_type": "code",
   "execution_count": null,
   "id": "8877200b",
   "metadata": {},
   "outputs": [],
   "source": []
  }
 ],
 "metadata": {
  "kernelspec": {
   "display_name": "Python 3 (ipykernel)",
   "language": "python",
   "name": "python3"
  },
  "language_info": {
   "codemirror_mode": {
    "name": "ipython",
    "version": 3
   },
   "file_extension": ".py",
   "mimetype": "text/x-python",
   "name": "python",
   "nbconvert_exporter": "python",
   "pygments_lexer": "ipython3",
   "version": "3.11.5"
  }
 },
 "nbformat": 4,
 "nbformat_minor": 5
}
