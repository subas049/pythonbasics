{
 "cells": [
  {
   "cell_type": "markdown",
   "id": "97cd383c",
   "metadata": {},
   "source": [
    "# Set"
   ]
  },
  {
   "cell_type": "markdown",
   "id": "0ca08ca8",
   "metadata": {},
   "source": [
    "for unique items but not ordered"
   ]
  },
  {
   "cell_type": "code",
   "execution_count": 3,
   "id": "08c02097",
   "metadata": {},
   "outputs": [
    {
     "name": "stdout",
     "output_type": "stream",
     "text": [
      "{'blue', 'green', 'orange', 'red'}\n"
     ]
    }
   ],
   "source": [
    "colors={'blue','red','orange','green','green'}\n",
    "print(colors)"
   ]
  },
  {
   "cell_type": "code",
   "execution_count": 4,
   "id": "aeb61c75",
   "metadata": {},
   "outputs": [
    {
     "name": "stdout",
     "output_type": "stream",
     "text": [
      "['blue', 'green', 'orange', 'red']\n"
     ]
    }
   ],
   "source": [
    "colors_list=list(colors)\n",
    "print(colors_list)"
   ]
  },
  {
   "cell_type": "markdown",
   "id": "a8baa72e",
   "metadata": {},
   "source": [
    "# String Formatting"
   ]
  },
  {
   "cell_type": "code",
   "execution_count": 5,
   "id": "1ae1f028",
   "metadata": {},
   "outputs": [
    {
     "name": "stdout",
     "output_type": "stream",
     "text": [
      "Subash likes java and python\n"
     ]
    }
   ],
   "source": [
    "name='Subash'\n",
    "likes1='java'\n",
    "likes2='python'\n",
    "print(name + ' likes '+likes1+' and '+likes2)"
   ]
  },
  {
   "cell_type": "code",
   "execution_count": 6,
   "id": "bb83555b",
   "metadata": {},
   "outputs": [
    {
     "name": "stdout",
     "output_type": "stream",
     "text": [
      "Subash likes java and python\n"
     ]
    }
   ],
   "source": [
    "text='{} likes {} and {}'\n",
    "print(text.format(name,likes1,likes2))"
   ]
  },
  {
   "cell_type": "code",
   "execution_count": 8,
   "id": "630d4fe2",
   "metadata": {},
   "outputs": [
    {
     "name": "stdout",
     "output_type": "stream",
     "text": [
      "Subash likes java and python\n"
     ]
    }
   ],
   "source": [
    "print('{} likes {} and {}'.format(name,likes1,likes2))"
   ]
  },
  {
   "cell_type": "code",
   "execution_count": 9,
   "id": "739dcbb7",
   "metadata": {},
   "outputs": [
    {
     "name": "stdout",
     "output_type": "stream",
     "text": [
      "Subash likes java and python\n"
     ]
    }
   ],
   "source": [
    "text='{0} likes {1} and {2}'\n",
    "print(text.format(name,likes1,likes2))"
   ]
  },
  {
   "cell_type": "code",
   "execution_count": 10,
   "id": "00d1494e",
   "metadata": {},
   "outputs": [
    {
     "name": "stdout",
     "output_type": "stream",
     "text": [
      "Subash likes python and java\n"
     ]
    }
   ],
   "source": [
    "text='{0} likes {2} and {1}'\n",
    "print(text.format(name,likes1,likes2))"
   ]
  },
  {
   "cell_type": "code",
   "execution_count": 11,
   "id": "ffab614b",
   "metadata": {},
   "outputs": [
    {
     "name": "stdout",
     "output_type": "stream",
     "text": [
      "Subash likes java and oracle\n",
      "Kumar likes Python and ML\n"
     ]
    }
   ],
   "source": [
    "text='{name} likes {likes1} and {likes2}'\n",
    "print(text.format(name='Subash',likes1='java',likes2='oracle'))\n",
    "print(text.format(name='Kumar',likes1='Python',likes2='ML'))"
   ]
  },
  {
   "cell_type": "markdown",
   "id": "816c89e2",
   "metadata": {},
   "source": [
    "formatting numbers"
   ]
  },
  {
   "cell_type": "code",
   "execution_count": 12,
   "id": "ec163cf7",
   "metadata": {},
   "outputs": [
    {
     "name": "stdout",
     "output_type": "stream",
     "text": [
      "3.141592653589793\n"
     ]
    }
   ],
   "source": [
    "import math\n",
    "print(math.pi)"
   ]
  },
  {
   "cell_type": "code",
   "execution_count": 13,
   "id": "df97ce67",
   "metadata": {},
   "outputs": [
    {
     "name": "stdout",
     "output_type": "stream",
     "text": [
      "the value of pi is 3.14\n"
     ]
    }
   ],
   "source": [
    "print(\"the value of pi is {:.2f}\".format(math.pi))"
   ]
  },
  {
   "cell_type": "code",
   "execution_count": 14,
   "id": "5686f566",
   "metadata": {},
   "outputs": [
    {
     "name": "stdout",
     "output_type": "stream",
     "text": [
      "the value of pi is 100010\n"
     ]
    }
   ],
   "source": [
    "num=34\n",
    "print(\"the value of pi is {:b}\".format(num))"
   ]
  },
  {
   "cell_type": "code",
   "execution_count": 15,
   "id": "34a57a35",
   "metadata": {},
   "outputs": [
    {
     "name": "stdout",
     "output_type": "stream",
     "text": [
      "the value of pi is 42\n"
     ]
    }
   ],
   "source": [
    "print(\"the value of pi is {:o}\".format(num))"
   ]
  },
  {
   "cell_type": "code",
   "execution_count": 16,
   "id": "20a17178",
   "metadata": {},
   "outputs": [
    {
     "name": "stdout",
     "output_type": "stream",
     "text": [
      "the value of pi is 3.400000e+01\n"
     ]
    }
   ],
   "source": [
    "print(\"the value of pi is {:e}\".format(num))"
   ]
  }
 ],
 "metadata": {
  "kernelspec": {
   "display_name": "Python 3 (ipykernel)",
   "language": "python",
   "name": "python3"
  },
  "language_info": {
   "codemirror_mode": {
    "name": "ipython",
    "version": 3
   },
   "file_extension": ".py",
   "mimetype": "text/x-python",
   "name": "python",
   "nbconvert_exporter": "python",
   "pygments_lexer": "ipython3",
   "version": "3.11.5"
  }
 },
 "nbformat": 4,
 "nbformat_minor": 5
}
