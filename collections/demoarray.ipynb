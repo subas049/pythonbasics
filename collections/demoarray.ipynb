{
 "cells": [
  {
   "cell_type": "code",
   "execution_count": 3,
   "id": "4d6fc3c9",
   "metadata": {},
   "outputs": [],
   "source": [
    "#python array module\n",
    "import array as myarray"
   ]
  },
  {
   "cell_type": "code",
   "execution_count": 3,
   "id": "45fcedff",
   "metadata": {},
   "outputs": [
    {
     "name": "stdout",
     "output_type": "stream",
     "text": [
      "i\n",
      "array('i', [1, 2, 3, 4, 5, 6, 7, 8, 9])\n",
      "array('d', [1.0, 2.1, 3.3, 4.5, 5.7, 6.9, 7.3, 8.2, 9.8])\n",
      "array('u', 'subash p')\n"
     ]
    }
   ],
   "source": [
    "arr=myarray.array('i',[1,2,3,4,5,6,7,8,9])\n",
    "arr1=myarray.array('d',[1.0,2.1,3.3,4.5,5.7,6.9,7.3,8.2,9.8])\n",
    "arr2=myarray.array('u',['s','u','b','a','s','h',' ','p'])\n",
    "print(arr.typecode)\n",
    "print(arr)\n",
    "print(arr1)\n",
    "print(arr2)"
   ]
  },
  {
   "cell_type": "code",
   "execution_count": 4,
   "id": "b8493d90",
   "metadata": {},
   "outputs": [
    {
     "name": "stdout",
     "output_type": "stream",
     "text": [
      "9\n",
      "9\n",
      "8\n"
     ]
    }
   ],
   "source": [
    "#printing the length of the array\n",
    "print(len(arr))\n",
    "print(len(arr1))\n",
    "print(len(arr2))"
   ]
  },
  {
   "cell_type": "code",
   "execution_count": 5,
   "id": "7c19016d",
   "metadata": {},
   "outputs": [
    {
     "name": "stdout",
     "output_type": "stream",
     "text": [
      "1 2 3 4 5 6 7 8 9 \n",
      "\n",
      "1.0 2.1 3.3 4.5 5.7 6.9 7.3 8.2 9.8 \n",
      "\n",
      "s u b a s h   p "
     ]
    }
   ],
   "source": [
    "#printing the values in an array\n",
    "for i in arr:\n",
    "    print(i,end=\" \")\n",
    "print(\"\\n\")\n",
    "for i in range(0,len(arr1)):\n",
    "    print(arr1[i],end=\" \")\n",
    "print(\"\\n\")\n",
    "for i in range(0,len(arr2)):\n",
    "    print(arr2[i],end=\" \")\n"
   ]
  },
  {
   "cell_type": "code",
   "execution_count": 6,
   "id": "9a092688",
   "metadata": {},
   "outputs": [
    {
     "name": "stdout",
     "output_type": "stream",
     "text": [
      "1 3 5 7 9 11 13 15 17 19 21 23 25 27 29 31 33 35 37 39 41 43 45 47 49 51 53 55 57 59 61 63 65 67 69 71 73 75 77 79 81 83 85 87 89 91 93 95 97 99 \n",
      "\n"
     ]
    },
    {
     "data": {
      "text/plain": [
       "3"
      ]
     },
     "execution_count": 6,
     "metadata": {},
     "output_type": "execute_result"
    }
   ],
   "source": [
    "x=list(range(1,101,2))\n",
    "new_array=myarray.array('i',x)\n",
    "\n",
    "for i in range(0,len(new_array)):\n",
    "    print(new_array[i],end=\" \")\n",
    "print('\\n')\n",
    "\n",
    "new_array[1]"
   ]
  },
  {
   "cell_type": "code",
   "execution_count": 9,
   "id": "d45c7579",
   "metadata": {},
   "outputs": [
    {
     "name": "stdout",
     "output_type": "stream",
     "text": [
      "array('i', [99, 1, 2, 3, 4, 5, 6, 7, 8, 9])\n",
      "array('i', [99, 1, 2, 3, 4, 5, 6, 7, 8, 9, 99])\n"
     ]
    }
   ],
   "source": [
    "#insert a number into array\n",
    "arr_1=myarray.array('i',[1,2,3,4,5,6,7,8,9])\n",
    "arr_1.insert(0,99)\n",
    "print(arr_1)\n",
    "arr_1.insert(10,99)\n",
    "print(arr_1)"
   ]
  },
  {
   "cell_type": "code",
   "execution_count": 10,
   "id": "493012ef",
   "metadata": {},
   "outputs": [
    {
     "name": "stdout",
     "output_type": "stream",
     "text": [
      "array('i', [99, 1, 2, 3, 4, 5, 6, 7, 8, 9, 99, 15])\n",
      "99 1 2 3 4 5 6 7 8 9 99 15 "
     ]
    }
   ],
   "source": [
    "arr_1.append(15)\n",
    "print(arr_1)\n",
    "for i in range(len(arr_1)):\n",
    "    print(arr_1[i],end=' ')"
   ]
  },
  {
   "cell_type": "code",
   "execution_count": 15,
   "id": "f1d4301f",
   "metadata": {},
   "outputs": [
    {
     "name": "stdout",
     "output_type": "stream",
     "text": [
      "1 2 3 4 5 6 \n",
      "\n",
      "1 2 30 4 5 6 "
     ]
    }
   ],
   "source": [
    "#updating the elements in an array\n",
    "arr_2=myarray.array('i',[1,2,3,4,5,6])\n",
    "\n",
    "#printting the array \n",
    "for i in range(len(arr_2)):\n",
    "    print(arr_2[i],end=' ')\n",
    "    \n",
    "print(\"\\n\")\n",
    "\n",
    "arr_2[2]=30\n",
    "for i in range(len(arr_2)):\n",
    "    print(arr_2[i],end=' ')\n"
   ]
  },
  {
   "cell_type": "code",
   "execution_count": 19,
   "id": "94409f29",
   "metadata": {},
   "outputs": [
    {
     "name": "stdout",
     "output_type": "stream",
     "text": [
      "1 2 3 4 5 "
     ]
    }
   ],
   "source": [
    "#deleting an element in an array\n",
    "arr_3=myarray.array('i',[1,2,3,4,5])\n",
    "\n",
    "#printting the array \n",
    "for i in range(len(arr_3)):\n",
    "    print(arr_3[i],end=' ')"
   ]
  },
  {
   "cell_type": "code",
   "execution_count": 20,
   "id": "1eaa3ad5",
   "metadata": {},
   "outputs": [
    {
     "name": "stdout",
     "output_type": "stream",
     "text": [
      "3\n",
      "1 2 4 5 "
     ]
    }
   ],
   "source": [
    "print(arr_3.pop(2))\n",
    "\n",
    "#printting the array \n",
    "for i in range(len(arr_3)):\n",
    "    print(arr_3[i],end=' ')"
   ]
  },
  {
   "cell_type": "code",
   "execution_count": 28,
   "id": "9cf9258d",
   "metadata": {},
   "outputs": [
    {
     "name": "stdout",
     "output_type": "stream",
     "text": [
      "1 2 3 4 5 6 7 8 9 10 11 \n",
      "\n",
      "2 4 6 8 10 \n",
      "\n",
      "1 2 3 4 5 6 7 8 9 10 11 \n",
      "\n",
      "2 4 99 8 10 "
     ]
    }
   ],
   "source": [
    "#slicing operations\n",
    "arr_4=myarray.array('i',range(1,12))\n",
    "\n",
    "#printting the array \n",
    "for i in range(len(arr_4)):\n",
    "    print(arr_4[i],end=' ')\n",
    "print(\"\\n\")\n",
    "arr_5=arr_4[1::2]\n",
    "\n",
    "for i in range(len(arr_5)):\n",
    "    print(arr_5[i],end=' ')\n",
    "\n",
    "arr_5[2]=99\n",
    "print(\"\\n\")\n",
    "for i in range(len(arr_4)):\n",
    "    print(arr_4[i],end=' ')\n",
    "print(\"\\n\")\n",
    "\n",
    "for i in range(len(arr_5)):\n",
    "    print(arr_5[i],end=' ')"
   ]
  },
  {
   "cell_type": "code",
   "execution_count": 31,
   "id": "ae333bc3",
   "metadata": {},
   "outputs": [
    {
     "name": "stdout",
     "output_type": "stream",
     "text": [
      "99 98 97 96 95 94 93 92 91 90 89 88 87 86 85 84 83 82 81 80 79 78 77 76 75 74 73 72 71 70 69 68 67 66 65 64 63 62 61 60 59 58 57 56 55 54 53 52 51 50 49 48 47 46 45 44 43 42 41 40 39 38 37 36 35 34 33 32 31 30 29 28 27 26 25 24 23 22 21 20 19 18 17 16 15 14 13 12 11 10 9 8 7 6 5 4 3 2 1 "
     ]
    }
   ],
   "source": [
    "#reversing the order using slicing\n",
    "arr_6=myarray.array('i',range(1,100))\n",
    "\n",
    "arr_7=arr_6[::-1]\n",
    "\n",
    "for i in range(len(arr_7)):\n",
    "    print(arr_7[i],end=' ')\n"
   ]
  },
  {
   "cell_type": "code",
   "execution_count": 41,
   "id": "ebf3a6d9",
   "metadata": {},
   "outputs": [
    {
     "name": "stdout",
     "output_type": "stream",
     "text": [
      "HSABUS\n"
     ]
    }
   ],
   "source": [
    "s='SUBASH'\n",
    "st=''\n",
    "for i in reversed(range(len(s))):\n",
    "    st=st+s[i]\n",
    "print(st)"
   ]
  },
  {
   "cell_type": "code",
   "execution_count": 44,
   "id": "d7afa602",
   "metadata": {},
   "outputs": [
    {
     "name": "stdout",
     "output_type": "stream",
     "text": [
      "HSABUS\n"
     ]
    }
   ],
   "source": [
    "s='SUBASH'\n",
    "print(s[::-1])"
   ]
  },
  {
   "cell_type": "code",
   "execution_count": 50,
   "id": "b7a9dd5e",
   "metadata": {},
   "outputs": [
    {
     "name": "stdout",
     "output_type": "stream",
     "text": [
      "0 2 4 6 8 10 12 14 16 18 \n",
      "\n",
      "8\n",
      "8 16\n"
     ]
    }
   ],
   "source": [
    "#searching operation\n",
    "x=list(range(0,10000,2))\n",
    "arr_8=myarray.array('i',x)\n",
    "# printing first 10 elements of the above array\n",
    "for i in range(0,10):\n",
    "    print(arr_8[i],end=' ')\n",
    "print(\"\\n\")\n",
    "index=arr_8.index(16)\n",
    "print(index)\n",
    "result=arr_8[index]\n",
    "print(index,result)"
   ]
  },
  {
   "cell_type": "code",
   "execution_count": 59,
   "id": "5a409728",
   "metadata": {},
   "outputs": [
    {
     "name": "stdout",
     "output_type": "stream",
     "text": [
      "[5, 1, 8, 2, 9, 3, 7, 4]\n",
      "[1, 2, 3, 4, 5, 7, 8, 9]\n",
      "[5, 1, 8, 2, 9, 3, 7, 4]\n",
      "[1, 2, 3, 4, 5, 7, 8, 9]\n",
      "[9, 8, 7, 5, 4, 3, 2, 1]\n"
     ]
    }
   ],
   "source": [
    "#sorting array\n",
    "\n",
    "arr_9=myarray.array('i',[5,1,8,2,9,3,7,4])\n",
    "sorted_array=arr_9.tolist()\n",
    "print(sorted_array)\n",
    "\n",
    "\n",
    "print(sorted(sorted_array))\n",
    "print(sorted_array)\n",
    "sorted_array.sort()\n",
    "print(sorted_array)\n",
    "\n",
    "sorted_array.sort(reverse=True)\n",
    "print(sorted_array)\n"
   ]
  },
  {
   "cell_type": "code",
   "execution_count": null,
   "id": "70fd6fe0",
   "metadata": {},
   "outputs": [],
   "source": []
  }
 ],
 "metadata": {
  "kernelspec": {
   "display_name": "Python 3 (ipykernel)",
   "language": "python",
   "name": "python3"
  },
  "language_info": {
   "codemirror_mode": {
    "name": "ipython",
    "version": 3
   },
   "file_extension": ".py",
   "mimetype": "text/x-python",
   "name": "python",
   "nbconvert_exporter": "python",
   "pygments_lexer": "ipython3",
   "version": "3.11.5"
  }
 },
 "nbformat": 4,
 "nbformat_minor": 5
}
