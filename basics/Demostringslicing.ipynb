{
 "cells": [
  {
   "cell_type": "code",
   "execution_count": 1,
   "id": "2c639eaf",
   "metadata": {},
   "outputs": [
    {
     "name": "stdout",
     "output_type": "stream",
     "text": [
      "String slicing\n"
     ]
    }
   ],
   "source": [
    "print('String slicing')"
   ]
  },
  {
   "cell_type": "markdown",
   "id": "d1a780aa",
   "metadata": {},
   "source": [
    "# String Functions\n",
    "str[startr:stop:step]"
   ]
  },
  {
   "cell_type": "code",
   "execution_count": 2,
   "id": "ae4dbb6d",
   "metadata": {},
   "outputs": [
    {
     "name": "stdout",
     "output_type": "stream",
     "text": [
      "a\n"
     ]
    }
   ],
   "source": [
    "name='Subash Perumal'\n",
    "print(name[3])"
   ]
  },
  {
   "cell_type": "code",
   "execution_count": 4,
   "id": "380f172a",
   "metadata": {},
   "outputs": [
    {
     "name": "stdout",
     "output_type": "stream",
     "text": [
      "Subas\n"
     ]
    }
   ],
   "source": [
    "print(name[0:5])"
   ]
  },
  {
   "cell_type": "code",
   "execution_count": 5,
   "id": "ac2c5b14",
   "metadata": {},
   "outputs": [
    {
     "name": "stdout",
     "output_type": "stream",
     "text": [
      "Subash\n"
     ]
    }
   ],
   "source": [
    "print(name[:6])"
   ]
  },
  {
   "cell_type": "code",
   "execution_count": 6,
   "id": "c71f2de3",
   "metadata": {},
   "outputs": [
    {
     "name": "stdout",
     "output_type": "stream",
     "text": [
      "ba\n"
     ]
    }
   ],
   "source": [
    "print(name[2:4]) #it will stopped in 4th index"
   ]
  },
  {
   "cell_type": "code",
   "execution_count": 7,
   "id": "a722bc40",
   "metadata": {},
   "outputs": [
    {
     "name": "stdout",
     "output_type": "stream",
     "text": [
      "bash Perumal\n"
     ]
    }
   ],
   "source": [
    "print(name[2:])"
   ]
  },
  {
   "cell_type": "code",
   "execution_count": 8,
   "id": "cf11a25a",
   "metadata": {},
   "outputs": [
    {
     "name": "stdout",
     "output_type": "stream",
     "text": [
      "Subash Perumal\n"
     ]
    }
   ],
   "source": [
    "print(name[:])"
   ]
  },
  {
   "cell_type": "code",
   "execution_count": 14,
   "id": "bd640fe8",
   "metadata": {},
   "outputs": [
    {
     "name": "stdout",
     "output_type": "stream",
     "text": [
      "uahP\n"
     ]
    }
   ],
   "source": [
    "print(name[1:8:2]) # it will jump 2 index"
   ]
  },
  {
   "cell_type": "code",
   "execution_count": 15,
   "id": "996eada6",
   "metadata": {},
   "outputs": [
    {
     "name": "stdout",
     "output_type": "stream",
     "text": [
      "Peruma\n"
     ]
    }
   ],
   "source": [
    "print(name[-7:-1])"
   ]
  },
  {
   "cell_type": "code",
   "execution_count": 16,
   "id": "ffd3da21",
   "metadata": {},
   "outputs": [
    {
     "name": "stdout",
     "output_type": "stream",
     "text": [
      "lamureP hsabuS\n"
     ]
    }
   ],
   "source": [
    "print(name[::-1])"
   ]
  },
  {
   "cell_type": "code",
   "execution_count": 18,
   "id": "3769484a",
   "metadata": {},
   "outputs": [
    {
     "name": "stdout",
     "output_type": "stream",
     "text": [
      "Subash Perumal\n"
     ]
    }
   ],
   "source": [
    "print(name[::1])"
   ]
  },
  {
   "cell_type": "markdown",
   "id": "1faa3099",
   "metadata": {},
   "source": [
    "Slice Function\n"
   ]
  },
  {
   "cell_type": "code",
   "execution_count": 21,
   "id": "d6db2b1e",
   "metadata": {},
   "outputs": [
    {
     "name": "stdout",
     "output_type": "stream",
     "text": [
      "Su\n"
     ]
    }
   ],
   "source": [
    "x=slice(0,2)\n",
    "print(name[x])"
   ]
  },
  {
   "cell_type": "code",
   "execution_count": 36,
   "id": "571364b2",
   "metadata": {},
   "outputs": [
    {
     "name": "stdout",
     "output_type": "stream",
     "text": [
      "H      y\n",
      "Ha     py\n",
      "Hap    ppy\n",
      "Happ   appy\n",
      "Happy  Happy\n"
     ]
    }
   ],
   "source": [
    "demo='Happy'\n",
    "print(demo[:1]+'      ' + demo[-1:])\n",
    "print(demo[:2]+'     ' + demo[-2:])\n",
    "print(demo[:3]+'    ' + demo[-3:])\n",
    "print(demo[:4]+'   ' + demo[-4:])\n",
    "print(demo[:]+'  ' + demo[-5:])"
   ]
  },
  {
   "cell_type": "code",
   "execution_count": null,
   "id": "b0a64206",
   "metadata": {},
   "outputs": [],
   "source": []
  },
  {
   "cell_type": "code",
   "execution_count": null,
   "id": "aaff3bf2",
   "metadata": {},
   "outputs": [],
   "source": []
  }
 ],
 "metadata": {
  "kernelspec": {
   "display_name": "Python 3 (ipykernel)",
   "language": "python",
   "name": "python3"
  },
  "language_info": {
   "codemirror_mode": {
    "name": "ipython",
    "version": 3
   },
   "file_extension": ".py",
   "mimetype": "text/x-python",
   "name": "python",
   "nbconvert_exporter": "python",
   "pygments_lexer": "ipython3",
   "version": "3.11.5"
  }
 },
 "nbformat": 4,
 "nbformat_minor": 5
}
