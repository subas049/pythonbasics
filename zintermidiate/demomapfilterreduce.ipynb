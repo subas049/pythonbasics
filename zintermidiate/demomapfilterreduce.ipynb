{
 "cells": [
  {
   "cell_type": "markdown",
   "id": "2044580b",
   "metadata": {},
   "source": [
    "# MAP Function"
   ]
  },
  {
   "cell_type": "code",
   "execution_count": 1,
   "id": "eb520b96",
   "metadata": {},
   "outputs": [
    {
     "name": "stdout",
     "output_type": "stream",
     "text": [
      "[(839, 'headphone', 799), (837, 'charger', 1800), (836, 'keyboard', 1500), (838, 'mouse', 599), (835, 'monitor', 8500)]\n"
     ]
    }
   ],
   "source": [
    "items=[(839,\"headphone\",799),(837,\"charger\",1800),(836,\"keyboard\",1500),(838,\"mouse\",599),(835,\"monitor\",8500)]\n",
    "print(items)"
   ]
  },
  {
   "cell_type": "code",
   "execution_count": 6,
   "id": "1f405185",
   "metadata": {},
   "outputs": [
    {
     "name": "stdout",
     "output_type": "stream",
     "text": [
      "[(839, 'headphone', '9.74'), (837, 'charger', '21.95'), (836, 'keyboard', '18.29'), (838, 'mouse', '7.30'), (835, 'monitor', '103.66')]\n"
     ]
    }
   ],
   "source": [
    "inr_usd=lambda item:(item[0],item[1],f\"{item[2]/82:.2f}\")\n",
    "items_list=map(inr_usd,items)\n",
    "print(list(items_list))"
   ]
  },
  {
   "cell_type": "code",
   "execution_count": 3,
   "id": "b028a5bf",
   "metadata": {},
   "outputs": [
    {
     "name": "stdout",
     "output_type": "stream",
     "text": [
      "[4, 5, 7, 2, 9, 7]\n",
      "[16, 25, 49, 4, 81, 49]\n"
     ]
    }
   ],
   "source": [
    "val=[4,5,7,2,9,7]\n",
    "print(val)\n",
    "valsqr=list(map(lambda x:x*x,val))\n",
    "print(valsqr)"
   ]
  },
  {
   "cell_type": "markdown",
   "id": "72c5c1f7",
   "metadata": {},
   "source": [
    "# Filter  function"
   ]
  },
  {
   "cell_type": "code",
   "execution_count": 11,
   "id": "fe2a7d81",
   "metadata": {},
   "outputs": [
    {
     "name": "stdout",
     "output_type": "stream",
     "text": [
      "[(839, 'headphone', 799), (837, 'charger', 1800), (836, 'keyboard', 1599), (838, 'mouse', 599), (835, 'monitor', 8500)]\n",
      "[(837, 'charger', 1800), (836, 'keyboard', 1599), (835, 'monitor', 8500)]\n",
      "[(838, 'mouse', 599), (835, 'monitor', 8500)]\n"
     ]
    }
   ],
   "source": [
    "items=[(839,\"headphone\",799),(837,\"charger\",1800),(836,\"keyboard\",1599),(838,\"mouse\",599),(835,\"monitor\",8500)]\n",
    "print(items)\n",
    "highcostitems=lambda x:x[2]>1500\n",
    "filtered=list(filter(highcostitems,items))\n",
    "print(filtered)\n",
    "filtered1=list(filter(lambda x:x[1][0]=='m',items))\n",
    "print(filtered1)"
   ]
  },
  {
   "cell_type": "markdown",
   "id": "2e6e13a4",
   "metadata": {},
   "source": [
    "# Reduce Function"
   ]
  },
  {
   "cell_type": "code",
   "execution_count": 13,
   "id": "c56b0ce9",
   "metadata": {},
   "outputs": [
    {
     "name": "stdout",
     "output_type": "stream",
     "text": [
      "50\n"
     ]
    }
   ],
   "source": [
    "import functools\n",
    "vals=[2,4,6,7,8,2,5,7,9]\n",
    "sum=functools.reduce(lambda x,y:x+y,vals)\n",
    "print(sum)"
   ]
  },
  {
   "cell_type": "code",
   "execution_count": 15,
   "id": "1774209b",
   "metadata": {},
   "outputs": [
    {
     "name": "stdout",
     "output_type": "stream",
     "text": [
      "Subash P\n"
     ]
    }
   ],
   "source": [
    "chars=['S','u','b','a','s','h',' ','P']\n",
    "conct=functools.reduce(lambda x,y:x+y,chars)\n",
    "print(conct)"
   ]
  },
  {
   "cell_type": "code",
   "execution_count": null,
   "id": "7c8f87ee",
   "metadata": {},
   "outputs": [],
   "source": []
  }
 ],
 "metadata": {
  "kernelspec": {
   "display_name": "Python 3 (ipykernel)",
   "language": "python",
   "name": "python3"
  },
  "language_info": {
   "codemirror_mode": {
    "name": "ipython",
    "version": 3
   },
   "file_extension": ".py",
   "mimetype": "text/x-python",
   "name": "python",
   "nbconvert_exporter": "python",
   "pygments_lexer": "ipython3",
   "version": "3.11.5"
  }
 },
 "nbformat": 4,
 "nbformat_minor": 5
}
