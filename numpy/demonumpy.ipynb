{
 "cells": [
  {
   "cell_type": "code",
   "execution_count": 5,
   "id": "012d66bd",
   "metadata": {},
   "outputs": [
    {
     "name": "stdout",
     "output_type": "stream",
     "text": [
      "[2 4 6 7 8 9 2 3]\n"
     ]
    }
   ],
   "source": [
    "import numpy as np\n",
    "#creating 1d array\n",
    "n1=np.array([2,4,6,7,8,9,2,3])\n",
    "print(n1)"
   ]
  },
  {
   "cell_type": "code",
   "execution_count": 7,
   "id": "dd7647f5",
   "metadata": {},
   "outputs": [
    {
     "name": "stdout",
     "output_type": "stream",
     "text": [
      "[[1 2 4 5]\n",
      " [2 6 9 7]]\n"
     ]
    }
   ],
   "source": [
    "#creating 2d array\n",
    "n2=np.array([[1,2,4,5],[2,6,9,7]])\n",
    "print(n2)"
   ]
  },
  {
   "cell_type": "code",
   "execution_count": 12,
   "id": "78ba0446",
   "metadata": {},
   "outputs": [
    {
     "name": "stdout",
     "output_type": "stream",
     "text": [
      "[[0. 0. 0.]\n",
      " [0. 0. 0.]\n",
      " [0. 0. 0.]]\n",
      "[[0 0 0]\n",
      " [0 0 0]\n",
      " [0 0 0]]\n"
     ]
    }
   ],
   "source": [
    "#creating 3d array filled with zeros\n",
    "n3=np.zeros([3,3])\n",
    "print(n3)\n",
    "n4=np.zeros([3,3],dtype='int32')\n",
    "print(n4)"
   ]
  },
  {
   "cell_type": "code",
   "execution_count": 14,
   "id": "9a220eef",
   "metadata": {},
   "outputs": [
    {
     "name": "stdout",
     "output_type": "stream",
     "text": [
      "[[[1 1 1]\n",
      "  [1 1 1]\n",
      "  [1 1 1]]\n",
      "\n",
      " [[1 1 1]\n",
      "  [1 1 1]\n",
      "  [1 1 1]]]\n"
     ]
    }
   ],
   "source": [
    "#creating two 3d array filled with ones\n",
    "\n",
    "n5=np.ones([2,3,3],dtype='int32')\n",
    "print(n5)"
   ]
  },
  {
   "cell_type": "code",
   "execution_count": 15,
   "id": "92b7fb99",
   "metadata": {},
   "outputs": [
    {
     "name": "stdout",
     "output_type": "stream",
     "text": [
      "[[460714096       606         0]]\n"
     ]
    }
   ],
   "source": [
    "#creating empty array filled with random junk values\n",
    "n6=np.empty([1,3],dtype='int32')\n",
    "print(n6)"
   ]
  },
  {
   "cell_type": "code",
   "execution_count": 17,
   "id": "99bb0e11",
   "metadata": {},
   "outputs": [
    {
     "name": "stdout",
     "output_type": "stream",
     "text": [
      "[0 1 2 3 4 5 6 7 8 9]\n"
     ]
    }
   ],
   "source": [
    "#creating an array filled with range of values\n",
    "n7=np.arange(10)\n",
    "print(n7)"
   ]
  },
  {
   "cell_type": "code",
   "execution_count": 21,
   "id": "525dc0a5",
   "metadata": {},
   "outputs": [
    {
     "name": "stdout",
     "output_type": "stream",
     "text": [
      "[ 0  2  4  6  9 11 13 15 18 20 22 25]\n"
     ]
    }
   ],
   "source": [
    "#linearly spaced array\n",
    "n8=np.linspace(0,25,12,dtype='int32')\n",
    "print(n8)"
   ]
  },
  {
   "cell_type": "code",
   "execution_count": 23,
   "id": "31ee8210",
   "metadata": {},
   "outputs": [
    {
     "name": "stdout",
     "output_type": "stream",
     "text": [
      "[[49 49 49]\n",
      " [49 49 49]\n",
      " [49 49 49]]\n"
     ]
    }
   ],
   "source": [
    "#creating an array filled with specific values\n",
    "n9=np.full([3,3],49)\n",
    "print(n9)"
   ]
  },
  {
   "cell_type": "code",
   "execution_count": 25,
   "id": "477e6854",
   "metadata": {},
   "outputs": [
    {
     "name": "stdout",
     "output_type": "stream",
     "text": [
      "[[[5 5 5]\n",
      "  [5 5 5]\n",
      "  [5 5 5]]\n",
      "\n",
      " [[5 5 5]\n",
      "  [5 5 5]\n",
      "  [5 5 5]]]\n"
     ]
    }
   ],
   "source": [
    "#filled with specific value for an empty array\n",
    "n5.fill(5)\n",
    "print(n5)"
   ]
  },
  {
   "cell_type": "code",
   "execution_count": null,
   "id": "e79eca0e",
   "metadata": {},
   "outputs": [],
   "source": []
  }
 ],
 "metadata": {
  "kernelspec": {
   "display_name": "Python 3 (ipykernel)",
   "language": "python",
   "name": "python3"
  },
  "language_info": {
   "codemirror_mode": {
    "name": "ipython",
    "version": 3
   },
   "file_extension": ".py",
   "mimetype": "text/x-python",
   "name": "python",
   "nbconvert_exporter": "python",
   "pygments_lexer": "ipython3",
   "version": "3.11.5"
  }
 },
 "nbformat": 4,
 "nbformat_minor": 5
}
