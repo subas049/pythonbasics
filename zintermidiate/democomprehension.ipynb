{
 "cells": [
  {
   "cell_type": "markdown",
   "id": "9190ec68",
   "metadata": {},
   "source": [
    "# List Comprehension"
   ]
  },
  {
   "cell_type": "code",
   "execution_count": 2,
   "id": "f5a38064",
   "metadata": {},
   "outputs": [
    {
     "name": "stdout",
     "output_type": "stream",
     "text": [
      "[1, 4, 9, 16, 25, 36, 49, 64, 81, 100]\n"
     ]
    }
   ],
   "source": [
    "# first N natural numbers square using map function\n",
    "list_squ=list(map(lambda x:x*x,range(1,11)))\n",
    "print(list_squ)"
   ]
  },
  {
   "cell_type": "code",
   "execution_count": 3,
   "id": "0e773a6f",
   "metadata": {},
   "outputs": [
    {
     "name": "stdout",
     "output_type": "stream",
     "text": [
      "[1, 4, 9, 16, 25, 36, 49, 64, 81, 100]\n"
     ]
    }
   ],
   "source": [
    "# first N natural numbers square using list comprehension function\n",
    "sq_list=[x*x for x in range(1,11)]\n",
    "print(sq_list)"
   ]
  },
  {
   "cell_type": "code",
   "execution_count": 4,
   "id": "4c43f3ee",
   "metadata": {},
   "outputs": [
    {
     "name": "stdout",
     "output_type": "stream",
     "text": [
      "[25, 27, 28, 29]\n"
     ]
    }
   ],
   "source": [
    "temp=[34,25,30,32,27,28,34,35,29]\n",
    "lowtemp=list(filter(lambda x:x<30,temp))\n",
    "print(lowtemp)"
   ]
  },
  {
   "cell_type": "code",
   "execution_count": 12,
   "id": "34f53c06",
   "metadata": {},
   "outputs": [
    {
     "name": "stdout",
     "output_type": "stream",
     "text": [
      "[25, 27, 28, 29]\n",
      "[0, 25, 0, 0, 27, 28, 0, 0, 29]\n"
     ]
    }
   ],
   "source": [
    "lowtm=[x for x in temp if x<30]\n",
    "print(lowtm)\n",
    "\n",
    "# for if and else\n",
    "lowtm=[x if x<30 else 0 for x in temp]\n",
    "print(lowtm)"
   ]
  },
  {
   "cell_type": "markdown",
   "id": "46c66fff",
   "metadata": {},
   "source": [
    "# Dictionary Comprehension"
   ]
  },
  {
   "cell_type": "code",
   "execution_count": 22,
   "id": "44566bd8",
   "metadata": {},
   "outputs": [
    {
     "name": "stdout",
     "output_type": "stream",
     "text": [
      "{'phone': 24000, 'laptop': 45000, 'television': 29000, 'ipad': 23000}\n"
     ]
    }
   ],
   "source": [
    "cart={'phone':24000.00,'laptop':45000.00,'television':29000.00 ,'ipad':23000.00}\n",
    "cart_rounded={k:round(v) for (k,v) in cart.items()}\n",
    "print(cart_rounded)\n"
   ]
  },
  {
   "cell_type": "code",
   "execution_count": 23,
   "id": "d5d2ee75",
   "metadata": {},
   "outputs": [
    {
     "name": "stdout",
     "output_type": "stream",
     "text": [
      "{'laptop': 45000, 'television': 29000}\n"
     ]
    }
   ],
   "source": [
    "cart_rounded2={k:round(v) for (k,v) in cart.items() if v>25000}\n",
    "print(cart_rounded2)\n"
   ]
  },
  {
   "cell_type": "code",
   "execution_count": 24,
   "id": "27f8227b",
   "metadata": {},
   "outputs": [
    {
     "name": "stdout",
     "output_type": "stream",
     "text": [
      "{'phone': 24000.0, 'laptop': 40500.0, 'television': 26100.0, 'ipad': 23000.0}\n"
     ]
    }
   ],
   "source": [
    "cartdiscount={k:round(v)*.9 if v>25000 else v for (k,v) in cart.items() }\n",
    "print(cartdiscount)"
   ]
  },
  {
   "cell_type": "code",
   "execution_count": 25,
   "id": "9004b16c",
   "metadata": {},
   "outputs": [
    {
     "name": "stdout",
     "output_type": "stream",
     "text": [
      "{'phone': 19200.0, 'laptop': 45000.0, 'television': 29000.0, 'ipad': 23000.0}\n"
     ]
    }
   ],
   "source": [
    "def mob_discount(k,v):\n",
    "    if k=='phone':\n",
    "        v=v*.8\n",
    "    return v\n",
    "\n",
    "mobilediscount={k:mob_discount(k,v) for (k,v) in cart.items()}\n",
    "print(mobilediscount)\n"
   ]
  },
  {
   "cell_type": "markdown",
   "id": "9347aa90",
   "metadata": {},
   "source": [
    "# Zip Function"
   ]
  },
  {
   "cell_type": "markdown",
   "id": "189afe49",
   "metadata": {},
   "source": [
    "zip two or more iterable into a single iterable"
   ]
  },
  {
   "cell_type": "code",
   "execution_count": 30,
   "id": "80095cf5",
   "metadata": {},
   "outputs": [
    {
     "name": "stdout",
     "output_type": "stream",
     "text": [
      "[('phone', 24000, 10), ('tab', 18000, 5), ('television', 46000, 15), ('hometheatre', 67000, 16)]\n",
      "{'phone': 24000, 'tab': 18000, 'television': 46000, 'hometheatre': 67000}\n",
      "(('phone', 24000, 10), ('tab', 18000, 5), ('television', 46000, 15), ('hometheatre', 67000, 16))\n"
     ]
    }
   ],
   "source": [
    "item=(\"phone\",\"tab\",\"television\",\"hometheatre\")\n",
    "price=(24000,18000,46000,67000)\n",
    "discount=(10,5,15,16)\n",
    "\n",
    "print(list(zip(item,price,discount)))\n",
    "print(dict(zip(item,price)))\n",
    "print(tuple(zip(item,price,discount)))"
   ]
  },
  {
   "cell_type": "code",
   "execution_count": null,
   "id": "38c38ca0",
   "metadata": {},
   "outputs": [],
   "source": []
  }
 ],
 "metadata": {
  "kernelspec": {
   "display_name": "Python 3 (ipykernel)",
   "language": "python",
   "name": "python3"
  },
  "language_info": {
   "codemirror_mode": {
    "name": "ipython",
    "version": 3
   },
   "file_extension": ".py",
   "mimetype": "text/x-python",
   "name": "python",
   "nbconvert_exporter": "python",
   "pygments_lexer": "ipython3",
   "version": "3.11.5"
  }
 },
 "nbformat": 4,
 "nbformat_minor": 5
}
