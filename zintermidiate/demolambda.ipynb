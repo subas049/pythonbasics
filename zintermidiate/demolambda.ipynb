{
 "cells": [
  {
   "cell_type": "markdown",
   "id": "194a465a",
   "metadata": {},
   "source": [
    "# Lambda Functions"
   ]
  },
  {
   "cell_type": "code",
   "execution_count": 1,
   "id": "a8dcece0",
   "metadata": {},
   "outputs": [
    {
     "name": "stdout",
     "output_type": "stream",
     "text": [
      "39\n"
     ]
    }
   ],
   "source": [
    "def add_num(n):\n",
    "    return n+10\n",
    "print(add_num(29))"
   ]
  },
  {
   "cell_type": "code",
   "execution_count": 3,
   "id": "95c9d640",
   "metadata": {},
   "outputs": [
    {
     "name": "stdout",
     "output_type": "stream",
     "text": [
      "66\n"
     ]
    }
   ],
   "source": [
    "add_10=lambda x:x+10\n",
    "print(add_10(56))"
   ]
  },
  {
   "cell_type": "code",
   "execution_count": 6,
   "id": "e65fb4b2",
   "metadata": {},
   "outputs": [
    {
     "name": "stdout",
     "output_type": "stream",
     "text": [
      "40\n"
     ]
    }
   ],
   "source": [
    "mulnum=lambda x1,x2:x1*x2\n",
    "print(mulnum(8,5))"
   ]
  },
  {
   "cell_type": "code",
   "execution_count": 8,
   "id": "4e90b751",
   "metadata": {},
   "outputs": [
    {
     "name": "stdout",
     "output_type": "stream",
     "text": [
      "30\n"
     ]
    }
   ],
   "source": [
    "product=lambda a,b,c:a*b*c\n",
    "print(product(2,3,5))"
   ]
  },
  {
   "cell_type": "code",
   "execution_count": 10,
   "id": "f9992693",
   "metadata": {},
   "outputs": [
    {
     "name": "stdout",
     "output_type": "stream",
     "text": [
      "False\n",
      "True\n"
     ]
    }
   ],
   "source": [
    "tallenough=lambda a:a>=170\n",
    "print(tallenough(150))\n",
    "print(tallenough(180))"
   ]
  },
  {
   "cell_type": "code",
   "execution_count": 11,
   "id": "54adfb66",
   "metadata": {},
   "outputs": [
    {
     "name": "stdout",
     "output_type": "stream",
     "text": [
      "yes\n",
      "no\n"
     ]
    }
   ],
   "source": [
    "strong_enough = lambda w : \"yes\" if w>50 else \"no\"\n",
    "print(strong_enough(74))\n",
    "print(strong_enough(46))\n"
   ]
  },
  {
   "cell_type": "code",
   "execution_count": null,
   "id": "e8eafadf",
   "metadata": {},
   "outputs": [],
   "source": []
  }
 ],
 "metadata": {
  "kernelspec": {
   "display_name": "Python 3 (ipykernel)",
   "language": "python",
   "name": "python3"
  },
  "language_info": {
   "codemirror_mode": {
    "name": "ipython",
    "version": 3
   },
   "file_extension": ".py",
   "mimetype": "text/x-python",
   "name": "python",
   "nbconvert_exporter": "python",
   "pygments_lexer": "ipython3",
   "version": "3.11.5"
  }
 },
 "nbformat": 4,
 "nbformat_minor": 5
}
