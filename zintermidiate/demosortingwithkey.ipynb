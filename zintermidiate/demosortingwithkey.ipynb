{
 "cells": [
  {
   "cell_type": "markdown",
   "id": "c93f4135",
   "metadata": {},
   "source": [
    "# Sorting With Key"
   ]
  },
  {
   "cell_type": "code",
   "execution_count": 7,
   "id": "cd2c90ce",
   "metadata": {},
   "outputs": [
    {
     "name": "stdout",
     "output_type": "stream",
     "text": [
      "[1, 2, 3, 4, 5, 5, 7, 7, 8, 9]\n"
     ]
    }
   ],
   "source": [
    "num_list=[2,4,5,1,9,7,8,3,5,7]\n",
    "print(sorted(num_list))"
   ]
  },
  {
   "cell_type": "markdown",
   "id": "8aec6fc6",
   "metadata": {},
   "source": [
    "Permenant sort"
   ]
  },
  {
   "cell_type": "code",
   "execution_count": 8,
   "id": "ea7518ba",
   "metadata": {},
   "outputs": [
    {
     "name": "stdout",
     "output_type": "stream",
     "text": [
      "[1, 2, 3, 4, 5, 5, 7, 7, 8, 9]\n"
     ]
    }
   ],
   "source": [
    "num_list.sort()\n",
    "print(num_list)"
   ]
  },
  {
   "cell_type": "code",
   "execution_count": 19,
   "id": "41f149b0",
   "metadata": {},
   "outputs": [
    {
     "name": "stdout",
     "output_type": "stream",
     "text": [
      "headphone\n",
      "[(835, 'monitor', 8500), (836, 'keyboard', 1500), (837, 'charger', 1800), (838, 'mouse', 599), (839, 'headphone', 799)]\n",
      "[(837, 'charger', 1800), (839, 'headphone', 799), (836, 'keyboard', 1500), (835, 'monitor', 8500), (838, 'mouse', 599)]\n",
      "[(838, 'mouse', 599), (839, 'headphone', 799), (836, 'keyboard', 1500), (837, 'charger', 1800), (835, 'monitor', 8500)]\n",
      "[(839, 'headphone', 799), (838, 'mouse', 599), (837, 'charger', 1800), (836, 'keyboard', 1500), (835, 'monitor', 8500)]\n"
     ]
    }
   ],
   "source": [
    "#item code,item name, price\n",
    "items=[(839,\"headphone\",799),(837,\"charger\",1800),(836,\"keyboard\",1500),(838,\"mouse\",599),(835,\"monitor\",8500)]\n",
    "print(items[0][1])\n",
    "items.sort()\n",
    "print(items)\n",
    "items.sort(key=lambda item:item[1])\n",
    "print(items)\n",
    "items.sort(key=lambda item:item[2])\n",
    "print(items)\n",
    "items.sort(key=lambda item:item[0],reverse=True)\n",
    "print(items)"
   ]
  },
  {
   "cell_type": "code",
   "execution_count": 21,
   "id": "b78a8798",
   "metadata": {},
   "outputs": [
    {
     "name": "stdout",
     "output_type": "stream",
     "text": [
      "headphone\n",
      "[(835, 'monitor', 8500), (836, 'keyboard', 1500), (837, 'charger', 1800), (838, 'mouse', 599), (839, 'headphone', 799)]\n",
      "((839, 'headphone', 799), (837, 'charger', 1800), (836, 'keyboard', 1500), (838, 'mouse', 599), (835, 'monitor', 8500))\n"
     ]
    }
   ],
   "source": [
    "items=((839,\"headphone\",799),(837,\"charger\",1800),(836,\"keyboard\",1500),(838,\"mouse\",599),(835,\"monitor\",8500))\n",
    "print(items[0][1])\n",
    "print(sorted(items, key = lambda item:item[0]))\n",
    "print(items)"
   ]
  },
  {
   "cell_type": "code",
   "execution_count": null,
   "id": "8c062bb5",
   "metadata": {},
   "outputs": [],
   "source": []
  }
 ],
 "metadata": {
  "kernelspec": {
   "display_name": "Python 3 (ipykernel)",
   "language": "python",
   "name": "python3"
  },
  "language_info": {
   "codemirror_mode": {
    "name": "ipython",
    "version": 3
   },
   "file_extension": ".py",
   "mimetype": "text/x-python",
   "name": "python",
   "nbconvert_exporter": "python",
   "pygments_lexer": "ipython3",
   "version": "3.11.5"
  }
 },
 "nbformat": 4,
 "nbformat_minor": 5
}
