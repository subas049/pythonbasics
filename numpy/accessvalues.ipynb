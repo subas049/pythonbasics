{
 "cells": [
  {
   "cell_type": "markdown",
   "id": "87c91d6d",
   "metadata": {},
   "source": [
    "# Accessing array"
   ]
  },
  {
   "cell_type": "code",
   "execution_count": 2,
   "id": "534fe755",
   "metadata": {},
   "outputs": [
    {
     "name": "stdout",
     "output_type": "stream",
     "text": [
      "2\n",
      "3\n",
      "printing all the values in array : \n",
      "2\n",
      "4\n",
      "6\n",
      "7\n",
      "8\n",
      "9\n",
      "2\n",
      "3\n"
     ]
    }
   ],
   "source": [
    "import numpy as np\n",
    "n1=np.array([2,4,6,7,8,9,2,3])\n",
    "print(n1[0])\n",
    "print(n1[-1])\n",
    "print(\"printing all the values in array : \")\n",
    "for i in n1:\n",
    "    print(i)"
   ]
  },
  {
   "cell_type": "code",
   "execution_count": 3,
   "id": "3bc7a34d",
   "metadata": {},
   "outputs": [
    {
     "name": "stdout",
     "output_type": "stream",
     "text": [
      "2\n",
      "9\n",
      "6\n",
      "[2 6 9 7]\n",
      "[1 2]\n"
     ]
    }
   ],
   "source": [
    "n2=np.array([[1,2,4,5],[2,6,9,7]])\n",
    "print(n2[0,1])\n",
    "print(n2[1,2])\n",
    "print(n2[-1,1])\n",
    "print(n2[-1,:])\n",
    "print(n2[:,0])"
   ]
  },
  {
   "cell_type": "code",
   "execution_count": 4,
   "id": "e0fdc1aa",
   "metadata": {},
   "outputs": [
    {
     "name": "stdout",
     "output_type": "stream",
     "text": [
      "[[[1 1 1]\n",
      "  [1 1 1]\n",
      "  [1 1 1]]\n",
      "\n",
      " [[1 1 1]\n",
      "  [1 1 1]\n",
      "  [1 1 1]]]\n",
      "[[[ 1  1  1]\n",
      "  [ 1  1  1]\n",
      "  [ 1  1 49]]\n",
      "\n",
      " [[ 1  1  1]\n",
      "  [ 1  1  1]\n",
      "  [ 1  1  1]]]\n"
     ]
    }
   ],
   "source": [
    "n3=np.ones([2,3,3],dtype='int32')\n",
    "print(n3)\n",
    "n3[0,2,2]=49\n",
    "print(n3)"
   ]
  },
  {
   "cell_type": "markdown",
   "id": "ccd0cf83",
   "metadata": {},
   "source": [
    "# Size and Shape"
   ]
  },
  {
   "cell_type": "code",
   "execution_count": 5,
   "id": "2e3d1ecc",
   "metadata": {},
   "outputs": [
    {
     "name": "stdout",
     "output_type": "stream",
     "text": [
      "3\n",
      "(2, 3, 3)\n",
      "18\n",
      "int32\n",
      "4\n",
      "72\n"
     ]
    }
   ],
   "source": [
    "print(n3.ndim)\n",
    "print(n3.shape)\n",
    "print(n3.size)\n",
    "print(n3.dtype)\n",
    "print(n3.itemsize)\n",
    "print(n3.nbytes)"
   ]
  },
  {
   "cell_type": "markdown",
   "id": "3a1ffe98",
   "metadata": {},
   "source": [
    "# Sorting"
   ]
  },
  {
   "cell_type": "code",
   "execution_count": 6,
   "id": "dc98bff7",
   "metadata": {},
   "outputs": [
    {
     "name": "stdout",
     "output_type": "stream",
     "text": [
      "[1 2 3 4 5 6 7 8]\n",
      "[2 8 1 4 6 5 7 3]\n"
     ]
    }
   ],
   "source": [
    "n4=np.array([2,8,1,4,6,5,7,3])\n",
    "print(np.sort(n4))\n",
    "print(n4)"
   ]
  },
  {
   "cell_type": "code",
   "execution_count": 7,
   "id": "2d23bb19",
   "metadata": {},
   "outputs": [
    {
     "name": "stdout",
     "output_type": "stream",
     "text": [
      "[[1 2 8]\n",
      " [4 5 6]]\n",
      "[[2 8 1]\n",
      " [4 6 5]]\n"
     ]
    },
    {
     "data": {
      "text/plain": [
       "array([[1, 2, 8],\n",
       "       [4, 5, 6]])"
      ]
     },
     "execution_count": 7,
     "metadata": {},
     "output_type": "execute_result"
    }
   ],
   "source": [
    "n5=np.array([[2,8,1],[4,6,5]])\n",
    "print(np.sort(n5))\n",
    "print(n5)\n",
    "np.sort(n5)"
   ]
  },
  {
   "cell_type": "code",
   "execution_count": 8,
   "id": "0909fd94",
   "metadata": {},
   "outputs": [
    {
     "data": {
      "text/plain": [
       "array([[2, 6, 1],\n",
       "       [4, 8, 5]])"
      ]
     },
     "execution_count": 8,
     "metadata": {},
     "output_type": "execute_result"
    }
   ],
   "source": [
    "#sorting colomn wise sorting axis=0 and rowwise sorting axis=1\n",
    "np.sort(n5,axis=0)"
   ]
  },
  {
   "cell_type": "code",
   "execution_count": 9,
   "id": "30e345b7",
   "metadata": {},
   "outputs": [
    {
     "data": {
      "text/plain": [
       "array([[1, 2, 8],\n",
       "       [4, 5, 6]])"
      ]
     },
     "execution_count": 9,
     "metadata": {},
     "output_type": "execute_result"
    }
   ],
   "source": [
    "np.sort(n5,axis=1)"
   ]
  },
  {
   "cell_type": "markdown",
   "id": "3fb38afc",
   "metadata": {},
   "source": [
    "# Reshaping Array and conversion"
   ]
  },
  {
   "cell_type": "code",
   "execution_count": 11,
   "id": "a764ada9",
   "metadata": {},
   "outputs": [
    {
     "name": "stdout",
     "output_type": "stream",
     "text": [
      "[[2 8 1 4]\n",
      " [6 5 7 3]]\n",
      "[[2 8 1 4 6 5 7 3]]\n",
      "[[2]\n",
      " [8]\n",
      " [1]\n",
      " [4]\n",
      " [6]\n",
      " [5]\n",
      " [7]\n",
      " [3]]\n"
     ]
    }
   ],
   "source": [
    "n6=n4.reshape(2,4)\n",
    "print(n6)\n",
    "n98=n4.reshape(1,-1)\n",
    "n99=n4.reshape(-1,1)\n",
    "print(n98)\n",
    "print(n99)"
   ]
  },
  {
   "cell_type": "code",
   "execution_count": 44,
   "id": "b04d3aa3",
   "metadata": {},
   "outputs": [
    {
     "name": "stdout",
     "output_type": "stream",
     "text": [
      "[1 2 3 4]\n",
      "[5 6 7 8]\n",
      "[1 2 3 4 5 6 7 8]\n"
     ]
    }
   ],
   "source": [
    "#joining 2 arrays\n",
    "n7=np.arange(1,5)\n",
    "print(n7)\n",
    "n8=np.arange(5,9)\n",
    "print(n8)\n",
    "n9=np.concatenate((n7,n8))\n",
    "print(n9)"
   ]
  },
  {
   "cell_type": "code",
   "execution_count": 51,
   "id": "d6e3d2bc",
   "metadata": {},
   "outputs": [
    {
     "name": "stdout",
     "output_type": "stream",
     "text": [
      "[1 2 3 4 5 6 7 8 9]\n",
      "[[1 2 3 4 5 6 7 8]]\n",
      "(1, 8)\n",
      "[[2]\n",
      " [3]\n",
      " [4]\n",
      " [5]\n",
      " [6]\n",
      " [7]\n",
      " [8]\n",
      " [9]]\n",
      "(8, 1)\n"
     ]
    }
   ],
   "source": [
    "#converting 1d array into 2d array\n",
    "n10=np.arange(1,10)\n",
    "print(n10)\n",
    "n11=n10[np.newaxis,:8]\n",
    "print(n11)\n",
    "print(n11.shape)\n",
    "n12=n10[1:,np.newaxis]\n",
    "print(n12)\n",
    "print(n12.shape)"
   ]
  },
  {
   "cell_type": "code",
   "execution_count": 53,
   "id": "32e76d5f",
   "metadata": {},
   "outputs": [
    {
     "name": "stdout",
     "output_type": "stream",
     "text": [
      "[[1]\n",
      " [2]\n",
      " [3]\n",
      " [4]\n",
      " [5]\n",
      " [6]\n",
      " [7]\n",
      " [8]\n",
      " [9]]\n"
     ]
    }
   ],
   "source": [
    "n13=np.expand_dims(n10,axis=1)\n",
    "print(n13)"
   ]
  },
  {
   "cell_type": "code",
   "execution_count": 54,
   "id": "f8d2031f",
   "metadata": {},
   "outputs": [
    {
     "name": "stdout",
     "output_type": "stream",
     "text": [
      "[[1 2 3 4 5 6 7 8 9]]\n"
     ]
    }
   ],
   "source": [
    "n13=np.expand_dims(n10,axis=0)\n",
    "print(n13)"
   ]
  }
 ],
 "metadata": {
  "kernelspec": {
   "display_name": "Python 3 (ipykernel)",
   "language": "python",
   "name": "python3"
  },
  "language_info": {
   "codemirror_mode": {
    "name": "ipython",
    "version": 3
   },
   "file_extension": ".py",
   "mimetype": "text/x-python",
   "name": "python",
   "nbconvert_exporter": "python",
   "pygments_lexer": "ipython3",
   "version": "3.11.5"
  }
 },
 "nbformat": 4,
 "nbformat_minor": 5
}
