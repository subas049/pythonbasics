{
 "cells": [
  {
   "cell_type": "code",
   "execution_count": 8,
   "id": "c63abada",
   "metadata": {},
   "outputs": [
    {
     "name": "stdout",
     "output_type": "stream",
     "text": [
      "('subash', 'perumal', 'mtech', 'firstname', 'lastname', 'education')\n"
     ]
    }
   ],
   "source": [
    "demo_tuple=('subash','perumal','mtech','firstname','lastname','education')\n",
    "print(demo_tuple)"
   ]
  },
  {
   "cell_type": "markdown",
   "id": "4d27be8a",
   "metadata": {},
   "source": [
    "Tupple is immutable\n"
   ]
  },
  {
   "cell_type": "code",
   "execution_count": 2,
   "id": "d3196c36",
   "metadata": {},
   "outputs": [
    {
     "name": "stdout",
     "output_type": "stream",
     "text": [
      "perumal\n"
     ]
    }
   ],
   "source": [
    "print(demo_tuple[1])"
   ]
  },
  {
   "cell_type": "code",
   "execution_count": 4,
   "id": "29e724d9",
   "metadata": {},
   "outputs": [
    {
     "name": "stdout",
     "output_type": "stream",
     "text": [
      "('subash', 'perumal', 'mtech', 'firstname', 'lastname', 'education')\n",
      "('education', 'lastname', 'firstname', 'mtech', 'perumal', 'subash')\n"
     ]
    }
   ],
   "source": [
    "print(demo_tuple[:])\n",
    "print(demo_tuple[::-1])"
   ]
  },
  {
   "cell_type": "code",
   "execution_count": 5,
   "id": "9ec99f04",
   "metadata": {},
   "outputs": [
    {
     "ename": "TypeError",
     "evalue": "'tuple' object does not support item assignment",
     "output_type": "error",
     "traceback": [
      "\u001b[1;31m---------------------------------------------------------------------------\u001b[0m",
      "\u001b[1;31mTypeError\u001b[0m                                 Traceback (most recent call last)",
      "Cell \u001b[1;32mIn[5], line 1\u001b[0m\n\u001b[1;32m----> 1\u001b[0m demo_tuple[\u001b[38;5;241m1\u001b[39m]\u001b[38;5;241m=\u001b[39m\u001b[38;5;124m'\u001b[39m\u001b[38;5;124mp\u001b[39m\u001b[38;5;124m'\u001b[39m\n",
      "\u001b[1;31mTypeError\u001b[0m: 'tuple' object does not support item assignment"
     ]
    }
   ],
   "source": [
    "demo_tuple[1]='p'"
   ]
  },
  {
   "cell_type": "code",
   "execution_count": 7,
   "id": "dc189858",
   "metadata": {},
   "outputs": [
    {
     "name": "stdout",
     "output_type": "stream",
     "text": [
      "('subash', 'perumal', 'mtech', 'lastname')\n"
     ]
    }
   ],
   "source": [
    "demo_tuple=('subash','perumal','mtech','lastname')\n",
    "print(demo_tuple)"
   ]
  },
  {
   "cell_type": "code",
   "execution_count": 9,
   "id": "83c64d4a",
   "metadata": {},
   "outputs": [
    {
     "name": "stdout",
     "output_type": "stream",
     "text": [
      "2\n"
     ]
    }
   ],
   "source": [
    "print(demo_tuple.index('mtech'))"
   ]
  },
  {
   "cell_type": "code",
   "execution_count": 10,
   "id": "29e22c1f",
   "metadata": {},
   "outputs": [
    {
     "name": "stdout",
     "output_type": "stream",
     "text": [
      "4\n"
     ]
    }
   ],
   "source": [
    "demo_tup1=(1,2,4,5,6,7,7,7,8,8,7)\n",
    "print(demo_tup1.count(7))"
   ]
  },
  {
   "cell_type": "code",
   "execution_count": 12,
   "id": "7404c151",
   "metadata": {},
   "outputs": [
    {
     "name": "stdout",
     "output_type": "stream",
     "text": [
      "subash\n",
      "perumal\n",
      "mtech\n",
      "firstname\n",
      "lastname\n",
      "education\n"
     ]
    }
   ],
   "source": [
    "for i in demo_tuple:\n",
    "    print(i)"
   ]
  },
  {
   "cell_type": "code",
   "execution_count": 15,
   "id": "84732243",
   "metadata": {},
   "outputs": [
    {
     "name": "stdout",
     "output_type": "stream",
     "text": [
      "subash is my name\n"
     ]
    }
   ],
   "source": [
    "for i in demo_tuple:\n",
    "    if i=='subash':\n",
    "        print(i+' is my name')"
   ]
  },
  {
   "cell_type": "code",
   "execution_count": 16,
   "id": "6c465007",
   "metadata": {},
   "outputs": [
    {
     "name": "stdout",
     "output_type": "stream",
     "text": [
      "education is his qualification\n"
     ]
    }
   ],
   "source": [
    "    if 'mtech' in demo_tuple:\n",
    "        print(i+' is his qualification')"
   ]
  },
  {
   "cell_type": "code",
   "execution_count": null,
   "id": "871e165b",
   "metadata": {},
   "outputs": [],
   "source": []
  }
 ],
 "metadata": {
  "kernelspec": {
   "display_name": "Python 3 (ipykernel)",
   "language": "python",
   "name": "python3"
  },
  "language_info": {
   "codemirror_mode": {
    "name": "ipython",
    "version": 3
   },
   "file_extension": ".py",
   "mimetype": "text/x-python",
   "name": "python",
   "nbconvert_exporter": "python",
   "pygments_lexer": "ipython3",
   "version": "3.11.5"
  }
 },
 "nbformat": 4,
 "nbformat_minor": 5
}
